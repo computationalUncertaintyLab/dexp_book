{
 "cells": [
  {
   "cell_type": "markdown",
   "id": "05ed79d7-8ebe-48ee-88f8-24474f0ddca5",
   "metadata": {},
   "source": [
    "# Homework09\n",
    "\n",
    "Please complete in the book here = [https://computationaluncertaintylab.github.io/dexp_book/Joint_probability.html#exercises](https://computationaluncertaintylab.github.io/dexp_book/Joint_probability.html#exercises)\n",
    "the exercises 5 and 6.\n",
    "\n",
    "Please also complete in the book here = [https://computationaluncertaintylab.github.io/dexp_book/Forward%20problem01.html](https://computationaluncertaintylab.github.io/dexp_book/Forward%20problem01.html)\n",
    "the exercises 1 and 2"
   ]
  },
  {
   "cell_type": "code",
   "execution_count": null,
   "id": "20adbc84-e8da-475f-8541-fba41c310ed6",
   "metadata": {},
   "outputs": [],
   "source": []
  }
 ],
 "metadata": {
  "kernelspec": {
   "display_name": "Python 3 (ipykernel)",
   "language": "python",
   "name": "python3"
  },
  "language_info": {
   "codemirror_mode": {
    "name": "ipython",
    "version": 3
   },
   "file_extension": ".py",
   "mimetype": "text/x-python",
   "name": "python",
   "nbconvert_exporter": "python",
   "pygments_lexer": "ipython3",
   "version": "3.13.1"
  }
 },
 "nbformat": 4,
 "nbformat_minor": 5
}
