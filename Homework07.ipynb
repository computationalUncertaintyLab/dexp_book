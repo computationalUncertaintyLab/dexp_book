{
 "cells": [
  {
   "cell_type": "markdown",
   "id": "96301602-3f41-4ac5-9f63-4686bb2fcacf",
   "metadata": {},
   "source": [
    "# Homework07\n",
    "\n",
    "Please complete in the book here = [https://computationaluncertaintylab.github.io/dexp_book/Bernoulli_Binomial_Poisson.html#homework](https://computationaluncertaintylab.github.io/dexp_book/Bernoulli_Binomial_Poisson.html#homework)\n",
    "the exercises 1,2,3,5,6,7,8,9,10,11,14,15-20. \n",
    "\n",
    "\n",
    "\n"
   ]
  },
  {
   "cell_type": "markdown",
   "id": "b726ef98-d707-41a3-b4cc-e96c8e4038d7",
   "metadata": {},
   "source": [
    "Please create your own GitHub account.\n",
    "Create a repository with the same name as your GitHub profile username.\n",
    "For example, my GitHub username is tomcm39 and i created a reposoty called tomcm39 [https://github.com/tomcm39/tomcm39](https://github.com/tomcm39/tomcm39)\n",
    "\n"
   ]
  }
 ],
 "metadata": {
  "kernelspec": {
   "display_name": "Python 3 (ipykernel)",
   "language": "python",
   "name": "python3"
  },
  "language_info": {
   "codemirror_mode": {
    "name": "ipython",
    "version": 3
   },
   "file_extension": ".py",
   "mimetype": "text/x-python",
   "name": "python",
   "nbconvert_exporter": "python",
   "pygments_lexer": "ipython3",
   "version": "3.13.1"
  }
 },
 "nbformat": 4,
 "nbformat_minor": 5
}
