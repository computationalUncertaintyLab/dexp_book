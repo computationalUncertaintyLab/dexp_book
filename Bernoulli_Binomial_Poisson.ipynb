{
 "cells": [
  {
   "cell_type": "markdown",
   "id": "dcbf2aa9-1d02-4599-b495-9348d2410395",
   "metadata": {},
   "source": [
    "# Bernoulli, Binomial, Poisson\n",
    "\n",
    "```{contents} Table of Contents\n",
    ":depth: 3\n",
    "```"
   ]
  },
  {
   "cell_type": "markdown",
   "id": "8650495d-96ee-4fbe-82b7-70e160420955",
   "metadata": {},
   "source": [
    "## Introduction\n",
    "\n",
    "Several probability distributions have been studied in depth. Templates like this allow us to model data generated from an experiment quickly. Random variable templates are so useful that several programming languages have optimized how to compute probabilities, expected values, and higher moments.\n",
    "\n",
    "We will study parametric distributions for random variables. A set of **parameters**---constants---determine how our random variable assigns probabilities to outcomes.\n",
    "\n",
    "## Discrete Distributions\n",
    "\n",
    "### The Bernoulli Distribution\n",
    "\n",
    "The Bernoulli distribution assigns probabilities to a random variable whose support contains the values 0 and 1. \n",
    "The Bernoulli distribution has a single parameter, often denoted $\\theta$, that controls how probabilities are assigned to these two values, 0 and 1.\n",
    "\n",
    "To communicate that a random variable $Z$ has a Bernoulli distribution with parameter $\\theta$, we write:\n",
    "\n",
    "\\begin{align}\n",
    "    Z \\sim \\text{Bernoulli}(\\theta)\n",
    "\\end{align}\n",
    "\n",
    "The parameter $\\theta$ can take any value between 0 and 1 inclusive, or $\\theta \\in [0,1]$.\n",
    "The allowable values a set of parameters can take is called the **parameter space**.\n",
    "\n",
    "The support of $Z$ is $\\text{supp}(Z) = \\{0,1\\}$, and the probability mass function for the random variable $Z$ is:\n",
    "\n",
    "\\begin{align}\n",
    "f_{Z}(z) =\n",
    "    \\begin{cases}\n",
    "        \\theta, & \\text{if } z=1 \\\\\n",
    "        1- \\theta, & \\text{if } z=0\n",
    "    \\end{cases}\n",
    "\\end{align}\n",
    "\n",
    "We can use the probability mass function to compute the expectation:\n",
    "\n",
    "\\begin{align}\n",
    "\\mathbb{E}(Z) &= f_{Z}(1) \\cdot 1 + f_{Z}(0) \\cdot 0 \\\\\n",
    "              &= f_{Z}(1) \\cdot 1 = f_{Z}(1) \\\\\n",
    "              &= \\theta\n",
    "\\end{align}\n",
    "\n",
    "And we can use the probability mass function to compute the variance:\n",
    "\n",
    "\\begin{align}\n",
    "V(Z) &= (1 - \\theta)^{2} f_{Z}(1) + (0-\\theta)^{2} f_{Z}(0) \\\\\n",
    "     &= (1 - \\theta)^{2} \\theta + \\theta^{2} (1-\\theta) \\\\\n",
    "     &= \\theta(1-\\theta) \\left[ (1-\\theta) + \\theta  \\right] \\\\\n",
    "     &= \\theta(1-\\theta)\n",
    "\\end{align}\n",
    "\n",
    "\n",
    "**Example**: Define $Z \\sim \\text{Bernoulli(0.45)}$.\n",
    "Then:\n",
    "\n",
    "\\begin{align}\n",
    "    \\text{supp}(Z) &= \\{0,1\\} \\\\\n",
    "    P(Z=0) &= 0.55 \\\\\n",
    "    P(Z=1) &= 0.45 \\\\\n",
    "    \\mathbb{E}(Z) &= 0.45 \\\\\n",
    "    V(Z) &= 0.45(0.55) = 0.25\n",
    "\\end{align}\n",
    "\n",
    "**Example**: A clinical trial enrolls patients and follows them for one year. The clinical team wants to understand the proportion of patients that experience or do not experience an adverse event. We could model whether each patient either experiences or does not experience an adverse event using a Bernoulli distribution. Define $Z_{i}$ as a Bernoulli-distributed random variable for the $i^\\text{th}$ patient in the study. When $Z_{i} = 1$, the $i^{\\text{th}} $ patient experienced an adverse event; otherwise, $Z_{i} = 0$.\n"
   ]
  },
  {
   "cell_type": "code",
   "execution_count": null,
   "id": "e64d15f6-9678-4a05-9930-6359e3687c33",
   "metadata": {},
   "outputs": [],
   "source": []
  },
  {
   "cell_type": "code",
   "execution_count": null,
   "id": "fcaa04fc-f1a3-441a-af75-2003207cae94",
   "metadata": {},
   "outputs": [],
   "source": []
  },
  {
   "cell_type": "code",
   "execution_count": null,
   "id": "4fc11cc0-4cb1-46de-ae16-8937e200b89c",
   "metadata": {},
   "outputs": [],
   "source": []
  },
  {
   "cell_type": "code",
   "execution_count": null,
   "id": "eed26ffe-31e8-49f5-a796-272fbf4dff6e",
   "metadata": {},
   "outputs": [],
   "source": []
  },
  {
   "cell_type": "code",
   "execution_count": null,
   "id": "f813d126-8321-4cb8-a16e-bcf773e3b711",
   "metadata": {},
   "outputs": [],
   "source": []
  },
  {
   "cell_type": "code",
   "execution_count": null,
   "id": "e4960bc2-05a3-4370-9142-e3eb3f75b1cd",
   "metadata": {},
   "outputs": [],
   "source": []
  },
  {
   "cell_type": "code",
   "execution_count": null,
   "id": "f5cf9275-f3a8-44f4-9bcc-14b93f578660",
   "metadata": {},
   "outputs": [],
   "source": []
  }
 ],
 "metadata": {
  "kernelspec": {
   "display_name": "Python 3 (ipykernel)",
   "language": "python",
   "name": "python3"
  },
  "language_info": {
   "codemirror_mode": {
    "name": "ipython",
    "version": 3
   },
   "file_extension": ".py",
   "mimetype": "text/x-python",
   "name": "python",
   "nbconvert_exporter": "python",
   "pygments_lexer": "ipython3",
   "version": "3.13.1"
  }
 },
 "nbformat": 4,
 "nbformat_minor": 5
}
