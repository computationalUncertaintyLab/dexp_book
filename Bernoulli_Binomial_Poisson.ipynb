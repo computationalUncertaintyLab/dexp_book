{
 "cells": [
  {
   "cell_type": "markdown",
   "id": "dcbf2aa9-1d02-4599-b495-9348d2410395",
   "metadata": {},
   "source": [
    "# Bernoulli, Binomial, Poisson\n",
    "\n",
    "```{contents} Table of Contents\n",
    ":depth: 3\n",
    "```"
   ]
  },
  {
   "cell_type": "markdown",
   "id": "8650495d-96ee-4fbe-82b7-70e160420955",
   "metadata": {},
   "source": [
    "## Introduction\n",
    "\n",
    "Several probability distributions have been studied in depth. Templates like this allow us to model data generated from an experiment quickly. Random variable templates are so useful that several programming languages have optimized how to compute probabilities, expected values, and higher moments.\n",
    "\n",
    "We will study parametric distributions for random variables. A set of **parameters**---constants---determine how our random variable assigns probabilities to outcomes.\n",
    "\n",
    "## Discrete Distributions\n",
    "\n",
    "### The Bernoulli Distribution\n",
    "\n",
    "The Bernoulli distribution assigns probabilities to a random variable whose support contains the values 0 and 1. \n",
    "The Bernoulli distribution has a single parameter, often denoted $\\theta$, that controls how probabilities are assigned to these two values, 0 and 1.\n",
    "\n",
    "To communicate that a random variable $Z$ has a Bernoulli distribution with parameter $\\theta$, we write:\n",
    "\n",
    "\\begin{align}\n",
    "    Z \\sim \\text{Bernoulli}(\\theta)\n",
    "\\end{align}\n",
    "\n",
    "The parameter $\\theta$ can take any value between 0 and 1 inclusive, or $\\theta \\in [0,1]$.\n",
    "The allowable values a set of parameters can take is called the **parameter space**.\n",
    "\n",
    "The support of $Z$ is $\\text{supp}(Z) = \\{0,1\\}$, and the probability mass function for the random variable $Z$ is:\n",
    "\n",
    "\\begin{align}\n",
    "f_{Z}(z) =\n",
    "    \\begin{cases}\n",
    "        \\theta, & \\text{if } z=1 \\\\\n",
    "        1- \\theta, & \\text{if } z=0\n",
    "    \\end{cases}\n",
    "\\end{align}\n",
    "\n",
    "We can use the probability mass function to compute the expectation:\n",
    "\n",
    "\\begin{align}\n",
    "\\mathbb{E}(Z) &= f_{Z}(1) \\cdot 1 + f_{Z}(0) \\cdot 0 \\\\\n",
    "              &= f_{Z}(1) \\cdot 1 = f_{Z}(1) \\\\\n",
    "              &= \\theta\n",
    "\\end{align}\n",
    "\n",
    "And we can use the probability mass function to compute the variance:\n",
    "\n",
    "\\begin{align}\n",
    "V(Z) &= (1 - \\theta)^{2} f_{Z}(1) + (0-\\theta)^{2} f_{Z}(0) \\\\\n",
    "     &= (1 - \\theta)^{2} \\theta + \\theta^{2} (1-\\theta) \\\\\n",
    "     &= \\theta(1-\\theta) \\left[ (1-\\theta) + \\theta  \\right] \\\\\n",
    "     &= \\theta(1-\\theta)\n",
    "\\end{align}\n",
    "\n",
    "\n",
    "**Example**: Define $Z \\sim \\text{Bernoulli(0.45)}$.\n",
    "Then:\n",
    "\n",
    "\\begin{align}\n",
    "    \\text{supp}(Z) &= \\{0,1\\} \\\\\n",
    "    P(Z=0) &= 0.55 \\\\\n",
    "    P(Z=1) &= 0.45 \\\\\n",
    "    \\mathbb{E}(Z) &= 0.45 \\\\\n",
    "    V(Z) &= 0.45(0.55) = 0.25\n",
    "\\end{align}\n",
    "\n",
    "**Example**: A clinical trial enrolls patients and follows them for one year. The clinical team wants to understand the proportion of patients that experience or do not experience an adverse event. We could model whether each patient either experiences or does not experience an adverse event using a Bernoulli distribution. Define $Z_{i}$ as a Bernoulli-distributed random variable for the $i^\\text{th}$ patient in the study. When $Z_{i} = 1$, the $i^{\\text{th}} $ patient experienced an adverse event; otherwise, $Z_{i} = 0$.\n"
   ]
  },
  {
   "cell_type": "markdown",
   "id": "d71ed83c-be65-4ab8-9e8b-fac580070c67",
   "metadata": {},
   "source": [
    "### The Binomial distribution\n",
    "\n",
    "A random variable $X$ distributed Binomial$(N,\\theta)$ has as support $supp(X) = \\{0,1,2,3,4,5,\\cdots,N\\}$, and the probability mass function is \n",
    "\n",
    "\\begin{align}\n",
    "    f_{X}(x) = \\binom{N}{x} \\theta^{x}(1-\\theta)^{N-x}\n",
    "\\end{align}\n",
    "where $\\binom{N}{x}$ is called a binomial coefficient and is defined as $\\binom{N}{x} = \\frac{N!}{x!(N-x)!}$.\n",
    "The binomial coefficient is often read \"N choose x\" and counts the number of ways one can choose $x$ items from a set of $N$ items where the order that the $x$ items is chosen does not matter. For example, $\\binom{10}{4}$ counts the number of ways to choose 4 items from a set of 10 items where the order we selected each of the four items does not matter.\n",
    "\n",
    "The expected value and variance of $X$ are \n",
    "\\begin{align}\n",
    "    \\mathbb{E}(X) &= N\\theta \\\\ \n",
    "             V(X) &= N\\theta(1-\\theta)\n",
    "\\end{align}\n",
    "\n",
    "Given N observations, the binomial distribution assigns probabilities to the number of observations that experience an outcome of interest where we assume that the probability any single observation experiences the event is $\\theta$. \n",
    "\n",
    "**Example** Imagine we randomize 200 patients in a clinical trial where 100 are enrolled to receive a novel treatment and 100 are enrolled to receive a control treatment. In the treatment group, 10 patients experience an adverse event from the treatment and in the control group 15 patients experience an adverse event. In previous work we found that the probability any one patient experiences an adverse event in the treatment group is 0.02 and in the control group is 0.04. We can define a random variable $T \\sim \\text{Bin}(100,0.02)$ that assigns a probability to the number of patients who experience an adverse event and define a random variable $C \\sim \\text{Bin}(100,0.04)$ that assigns probabilities to the number of patients who experience an event in the control group.     \n",
    "\n",
    "#### Relationship between Bernoulli and Binomial distribution \n",
    "\n",
    "\n"
   ]
  },
  {
   "cell_type": "code",
   "execution_count": null,
   "id": "fcaa04fc-f1a3-441a-af75-2003207cae94",
   "metadata": {},
   "outputs": [],
   "source": []
  },
  {
   "cell_type": "code",
   "execution_count": null,
   "id": "4fc11cc0-4cb1-46de-ae16-8937e200b89c",
   "metadata": {},
   "outputs": [],
   "source": []
  },
  {
   "cell_type": "code",
   "execution_count": null,
   "id": "eed26ffe-31e8-49f5-a796-272fbf4dff6e",
   "metadata": {},
   "outputs": [],
   "source": []
  },
  {
   "cell_type": "code",
   "execution_count": null,
   "id": "f813d126-8321-4cb8-a16e-bcf773e3b711",
   "metadata": {},
   "outputs": [],
   "source": []
  },
  {
   "cell_type": "code",
   "execution_count": null,
   "id": "e4960bc2-05a3-4370-9142-e3eb3f75b1cd",
   "metadata": {},
   "outputs": [],
   "source": []
  },
  {
   "cell_type": "code",
   "execution_count": null,
   "id": "f5cf9275-f3a8-44f4-9bcc-14b93f578660",
   "metadata": {},
   "outputs": [],
   "source": []
  }
 ],
 "metadata": {
  "kernelspec": {
   "display_name": "Python 3 (ipykernel)",
   "language": "python",
   "name": "python3"
  },
  "language_info": {
   "codemirror_mode": {
    "name": "ipython",
    "version": 3
   },
   "file_extension": ".py",
   "mimetype": "text/x-python",
   "name": "python",
   "nbconvert_exporter": "python",
   "pygments_lexer": "ipython3",
   "version": "3.13.1"
  }
 },
 "nbformat": 4,
 "nbformat_minor": 5
}
