{
 "cells": [
  {
   "cell_type": "markdown",
   "id": "05ed79d7-8ebe-48ee-88f8-24474f0ddca5",
   "metadata": {},
   "source": [
    "# Homework08\n",
    "\n",
    "Please complete in the book here = [https://computationaluncertaintylab.github.io/dexp_book/Bernoulli_Binomial_Poisson.html#homework](https://computationaluncertaintylab.github.io/dexp_book/Bernoulli_Binomial_Poisson.html#homework)\n",
    "the exercises 20-26.\n",
    "\n",
    "Please also complete in the book here = [https://computationaluncertaintylab.github.io/dexp_book/ch6_randomvars.html](https://computationaluncertaintylab.github.io/dexp_book/ch6_randomvars.html)\n",
    "the exercises 8,9,10\n",
    "\n",
    "For the GitHub repository that you created that has the same name as your GitHub Username, please edit the README.md file to include:\n",
    "\n",
    "1. You're First and Surname\n",
    "2. Current (and past) Educational history with dates (Major, School, etc)\n",
    "3. Any past research activities (if applicable)\n",
    "4. Any past scientific experiences (conference, summer experience, if applicable)\n",
    "5. Two sentences on the goals you wish to achieve in the next 5 years (e.g. \"My long-term goal is to ABC\"). \n",
    "\n",
    "Think of this Readme as the landing page for your GitHub repository. Think of this as a sort of \"LinkedIn for Coders/Researchers/Scientists\". "
   ]
  },
  {
   "cell_type": "code",
   "execution_count": null,
   "id": "20adbc84-e8da-475f-8541-fba41c310ed6",
   "metadata": {},
   "outputs": [],
   "source": []
  }
 ],
 "metadata": {
  "kernelspec": {
   "display_name": "Python 3 (ipykernel)",
   "language": "python",
   "name": "python3"
  },
  "language_info": {
   "codemirror_mode": {
    "name": "ipython",
    "version": 3
   },
   "file_extension": ".py",
   "mimetype": "text/x-python",
   "name": "python",
   "nbconvert_exporter": "python",
   "pygments_lexer": "ipython3",
   "version": "3.13.1"
  }
 },
 "nbformat": 4,
 "nbformat_minor": 5
}
