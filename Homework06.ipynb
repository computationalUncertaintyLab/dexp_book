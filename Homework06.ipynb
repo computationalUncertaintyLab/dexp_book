{
 "cells": [
  {
   "cell_type": "markdown",
   "id": "5aa67ed5-d2bf-458c-9fbb-1768c928a9f5",
   "metadata": {},
   "source": [
    "# Homework06\n",
    "\n",
    "Please complete in the book here = [https://computationaluncertaintylab.github.io/dexp_book/Ch5_sets_samplespace.html#exercises](https://computationaluncertaintylab.github.io/dexp_book/Ch5_sets_samplespace.html#exercises)\n",
    "the exercises 16,17,18,19,20,21,22,23. \n",
    "\n",
    "Please complete the DataCamp assignment that was assigned to you titled \"Introduction to Git\""
   ]
  }
 ],
 "metadata": {
  "kernelspec": {
   "display_name": "Python 3 (ipykernel)",
   "language": "python",
   "name": "python3"
  },
  "language_info": {
   "codemirror_mode": {
    "name": "ipython",
    "version": 3
   },
   "file_extension": ".py",
   "mimetype": "text/x-python",
   "name": "python",
   "nbconvert_exporter": "python",
   "pygments_lexer": "ipython3",
   "version": "3.13.1"
  }
 },
 "nbformat": 4,
 "nbformat_minor": 5
}
