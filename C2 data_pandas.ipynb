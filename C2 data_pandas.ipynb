{
 "cells": [
  {
   "cell_type": "markdown",
   "id": "3a277868-42fe-4da9-b589-36f7f6673192",
   "metadata": {
    "editable": true,
    "slideshow": {
     "slide_type": ""
    },
    "tags": []
   },
   "source": [
    "# Chapter 02: Data, Dataframes, and Pandas\n",
    "\n",
    "## Experiments, Outcomes, Datapoints, and Dataframes\n",
    "\n",
    "We define a **set** as a collection of items, sometimes called elements. A set is typically given a capital letter (for example $A$) and the elements are included inside curly braces.\n",
    "\n",
    "We use $\\mathcal{G}$ to define the set of all possible outcomes from an experiment and call this set the **sample space**.\n",
    "The term *\"experiment\"* has a broad meaning.\n",
    "An experiment can mean everything from a randomized controlled trial to an observational study.\n",
    "Experiments are what produce observations that we collect and try to characterize.\n",
    "Here an **experiment** is the process that generates outcomes.\n",
    "\n",
    "An **outcome** is defined as an element of the sample space, some result of the experiment that is recorded.\n",
    "An outcome is a single observation from an experiment, and we define an **event** as a set, or group, of outcomes.\n",
    "Most often we use $o_{i}$ to denote an outcome and $E_{i}$ to denote an event.\n",
    "\n",
    "The sample space, event, and outcome are all potential results from an experiment.\n",
    "When we conduct an experiment we will generate an outcome from our sample space and call this realized outcome a **data point**.\n",
    "\n",
    "---\n",
    "\n",
    "*Example: Flipping a coin*\n",
    "Consider the experiment of flipping a coin and recording whether the coin lands heads or tails side up.  \n",
    "We can define a sample space $\\mathcal{G} = \\{H,T\\}$ where $H$ is an outcome that represents the coin landing heads up and $T$ represents tails up. \n",
    "The sample space includes all the possible events we wish to record, either the coin lands heads or it lands tails.  \n",
    "\n",
    "Up until this point we have structured our experiment, but we have not generated data.\n",
    "We flip the coin and the coin lands tails side up. Now we have performed an experiment and generated the data point $T$.\n",
    "We flip again and record a heads. $H$ is the second data point, and so on. \n",
    "\n",
    "---\n",
    "\n",
    "Now suppose that we conduct an experiment with the same sample space $(\\mathcal{G})$ a number $N$ times and with each experiment we record a data point.\n",
    "A tuple (i.e. ordered list) of data points $d$ is called a **data set** $\\mathcal{D} = (d_{1}, d_{2}, d_{3}, \\cdots, d_{N})$ where $d_{i}$ is the data point generated from the $i^\\text{th}$ experiment.\n",
    "We say that we have _drawn_ or that we have _sampled_ a data set $\\mathcal{D}$.\n",
    "Further, data points $(d)$ are often called _realized_ outcomes because they are no longer in a set of potential possibilities but are now determined items.\n",
    "\n",
    "A data set $\\mathcal{D}$ can be unwieldy depending on the number of data points, the complexity of the sample space, or both.\n",
    "A **data frame** is one way to organize a data set.\n",
    "A data frame $\\mathcal{F}$ is a table where each data point $d$ in a dataset $\\mathcal{D}$ is represented as a row in the table.\n",
    "Each data point may contains multiple pieces of information.\n",
    "That is, each data point may itself be a tuple. \n",
    "In this case, then a separate column is created for each position in the tuple.\n",
    "\n",
    "---\n",
    "\n",
    "*Example Human predictions of infectious diseases:*\n",
    "Suppose we design an experiment to collect from humans predictions, two weeks ahead from the time of our experiment, of the number of incident cases and incident deaths at the US national level of COVID-19 ([Source](https://www.ncbi.nlm.nih.gov/pmc/articles/PMC7523166/)).\n",
    "We decide to collect from each human whether they are an expert in the modeling of infectious disease, a prediction of incident cases, and a prediction of incident deaths.\n",
    "We draw a data set $\\mathcal{D}$ of 50 human judgment predictions.\n",
    "We can organize this data set into a data frame:\n",
    "\n",
    "| Expert | Prediction of cases | Prediction of deaths |\n",
    "|--------|---------------------|----------------------|\n",
    "| Yes    | 145                 | 52                  |\n",
    "| No     | 215                 | 34                  |\n",
    "| Yes    | 524                 | 48                  |\n",
    "| Yes    | 265                 | 95                  |\n",
    "| No     | 354                 | 35                  |\n",
    "\n",
    "**Table:** Example data frame $\\mathcal{F}$ built from a data set $\\mathcal{D}$ that contains 5 data points where each data point is a tuple of length three.\n",
    "\n",
    "---\n",
    "\n",
    "Above, the first data point is $(\\text{Yes},145,52)$, the second data point is $(\\text{No}, 215, 34)$, and so on until the last data point $(\\text{No}, 354, 35)$.\n",
    "A data frame can also include informative information for others such as labels for each column.\n"
   ]
  },
  {
   "cell_type": "markdown",
   "id": "a5327757-bf8f-4e51-b8c2-b4240120fb55",
   "metadata": {},
   "source": [
    "## Pandas \n",
    "\n",
    "The **pandas** module in Python is, by far, the most used set of tools for interacting with data, data points, and data frames. The documentation for Pandas is available here = [link](https://pandas.pydata.org/docs/). \n",
    "\n",
    "Pandas allows a structured way to import, organize, access, and compute with data frames. \n",
    "But first, we need to discuss the fundemental object in pandas---the **Series**. \n",
    "\n",
    "### Series\n",
    "A **Series** is (1) a list of items plus (2) an index, a list of string values that are associated with each item in (1).\n",
    "\n",
    "The typical may to define a Series is by called ```pd.Series``` and inputting a list and index. \n",
    "For example, the first two data points of out above coin flip experiment were tails and then heads.\n",
    "Lets assign \"tails\" the value 0 and \"heads\" the value 1 to make this more numerically friendly. "
   ]
  },
  {
   "cell_type": "code",
   "execution_count": 10,
   "id": "8747032d-857b-41d2-bacf-076b6bb1fde8",
   "metadata": {},
   "outputs": [
    {
     "name": "stdout",
     "output_type": "stream",
     "text": [
      "flip1    0\n",
      "flip2    1\n",
      "dtype: int64\n"
     ]
    }
   ],
   "source": [
    "import pandas as pd                                     #<--Import pandas (only needed once)\n",
    "coin_flips = pd.Series([0,1], index=[\"flip1\", \"flip2\"]) #<--Create a Series\n",
    "print(coin_flips)                                       # Print this out so we can see what this object looks like"
   ]
  },
  {
   "cell_type": "markdown",
   "id": "e120c38c-b550-401e-a321-b38cdba4ed92",
   "metadata": {},
   "source": [
    "We see that a series object was created where all the values are integers.\n",
    "This is a rule for Series, they cannot be \"mixed\" type such as character and integer or integer and floats (decimals values).   \n",
    "\n",
    "The index for our series is displayed on the left side.\n",
    "We can access items in a series using the index like this. "
   ]
  },
  {
   "cell_type": "code",
   "execution_count": 11,
   "id": "428b67a2-84c8-4c1d-8e72-9b78c539540b",
   "metadata": {},
   "outputs": [
    {
     "data": {
      "text/plain": [
       "0"
      ]
     },
     "execution_count": 11,
     "metadata": {},
     "output_type": "execute_result"
    }
   ],
   "source": [
    "coin_flips.get(\"flip1\")"
   ]
  },
  {
   "cell_type": "markdown",
   "id": "2ee2a8c4-e858-403b-a82c-d2665a2e7301",
   "metadata": {},
   "source": [
    "or like this "
   ]
  },
  {
   "cell_type": "code",
   "execution_count": 12,
   "id": "cfecc6f9-c5f3-4e7d-970a-f2701646be79",
   "metadata": {},
   "outputs": [
    {
     "data": {
      "text/plain": [
       "0"
      ]
     },
     "execution_count": 12,
     "metadata": {},
     "output_type": "execute_result"
    }
   ],
   "source": [
    "coin_flips[\"flip1\"]"
   ]
  },
  {
   "cell_type": "markdown",
   "id": "9ad0acd4-cf65-4657-a84c-f32db5050cf5",
   "metadata": {},
   "source": [
    "Like most objects in Python, a series is a type of dictionary.\n",
    "The \"keys\" of the dictionary are the index values and the \"values\" of the dictionary are the items in the list. \n",
    "In fact, we can build a series from a dictionary."
   ]
  },
  {
   "cell_type": "code",
   "execution_count": 13,
   "id": "f2fb4155-6b40-43e8-b3cd-e61824dbbd1b",
   "metadata": {},
   "outputs": [
    {
     "data": {
      "text/plain": [
       "flip1    0\n",
       "flip2    1\n",
       "dtype: int64"
      ]
     },
     "execution_count": 13,
     "metadata": {},
     "output_type": "execute_result"
    }
   ],
   "source": [
    "coin_flips = pd.Series({\"flip1\":0,\"flip2\":1})\n",
    "coin_flips"
   ]
  },
  {
   "cell_type": "markdown",
   "id": "09bb82f8-a30b-48ed-a2f5-55e3df5edeb6",
   "metadata": {},
   "source": [
    "Finally, it should be noted that pandas Series objects can, for the most part, be treated the same as numpy arrays. \n",
    "Series support vectorized operations "
   ]
  },
  {
   "cell_type": "code",
   "execution_count": null,
   "id": "3907fc67-b748-4b53-8f10-ae9ef1badc87",
   "metadata": {},
   "outputs": [],
   "source": []
  },
  {
   "cell_type": "code",
   "execution_count": null,
   "id": "7a086542-bfc5-4e7b-8c03-c672838b4e56",
   "metadata": {},
   "outputs": [],
   "source": []
  },
  {
   "cell_type": "code",
   "execution_count": null,
   "id": "13f1ff8e-5286-477c-bab0-e59da1b53c23",
   "metadata": {},
   "outputs": [],
   "source": []
  },
  {
   "cell_type": "code",
   "execution_count": null,
   "id": "b5127778-9b0b-4767-97f3-7eb2fa879f5f",
   "metadata": {},
   "outputs": [],
   "source": []
  },
  {
   "cell_type": "code",
   "execution_count": null,
   "id": "4667cfc0-1742-4577-b409-962ab5ecc530",
   "metadata": {},
   "outputs": [],
   "source": []
  },
  {
   "cell_type": "code",
   "execution_count": null,
   "id": "fb8cae38-3df6-405a-8c57-4c49271745e4",
   "metadata": {},
   "outputs": [],
   "source": []
  },
  {
   "cell_type": "code",
   "execution_count": null,
   "id": "931b90c0-be60-43d0-bc7f-5a9f9f335544",
   "metadata": {},
   "outputs": [],
   "source": []
  },
  {
   "cell_type": "code",
   "execution_count": null,
   "id": "0ac1c726-3dc7-40b5-a36c-818902ccb713",
   "metadata": {},
   "outputs": [],
   "source": []
  },
  {
   "cell_type": "code",
   "execution_count": null,
   "id": "2ef8cfd8-bc6f-4bbc-bf4e-de7537107540",
   "metadata": {},
   "outputs": [],
   "source": []
  }
 ],
 "metadata": {
  "kernelspec": {
   "display_name": "Python 3 (ipykernel)",
   "language": "python",
   "name": "python3"
  },
  "language_info": {
   "codemirror_mode": {
    "name": "ipython",
    "version": 3
   },
   "file_extension": ".py",
   "mimetype": "text/x-python",
   "name": "python",
   "nbconvert_exporter": "python",
   "pygments_lexer": "ipython3",
   "version": "3.10.16"
  }
 },
 "nbformat": 4,
 "nbformat_minor": 5
}
