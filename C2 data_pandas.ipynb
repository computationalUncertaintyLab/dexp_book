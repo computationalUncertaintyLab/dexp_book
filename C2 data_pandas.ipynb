{
 "cells": [
  {
   "cell_type": "markdown",
   "id": "3a277868-42fe-4da9-b589-36f7f6673192",
   "metadata": {
    "editable": true,
    "slideshow": {
     "slide_type": ""
    },
    "tags": []
   },
   "source": [
    "# Chapter 02: Data, Dataframes, and Pandas\n",
    "\n",
    "## Experiments, Outcomes, Datapoints, and Dataframes\n",
    "\n",
    "We define a **set** as a collection of items, sometimes called elements. A set is typically given a capital letter (for example $A$) and the elements are included inside curly braces.\n",
    "\n",
    "We use $\\mathcal{G}$ to define the set of all possible outcomes from an experiment and call this set the **sample space**.\n",
    "The term *\"experiment\"* has a broad meaning.\n",
    "An experiment can mean everything from a randomized controlled trial to an observational study.\n",
    "Experiments are what produce observations that we collect and try to characterize.\n",
    "Here an **experiment** is the process that generates outcomes.\n",
    "\n",
    "An **outcome** is defined as an element of the sample space, some result of the experiment that is recorded.\n",
    "An outcome is a single observation from an experiment, and we define an **event** as a set, or group, of outcomes.\n",
    "Most often we use $o_{i}$ to denote an outcome and $E_{i}$ to denote an event.\n",
    "\n",
    "The sample space, event, and outcome are all potential results from an experiment.\n",
    "When we conduct an experiment we will generate an outcome from our sample space and call this realized outcome a **data point**.\n",
    "\n",
    "---\n",
    "\n",
    "*Example: Flipping a coin*\n",
    "Consider the experiment of flipping a coin and recording whether the coin lands heads or tails side up.  \n",
    "We can define a sample space $\\mathcal{G} = \\{H,T\\}$ where $H$ is an outcome that represents the coin landing heads up and $T$ represents tails up. \n",
    "The sample space includes all the possible events we wish to record, either the coin lands heads or it lands tails.  \n",
    "\n",
    "Up until this point we have structured our experiment, but we have not generated data.\n",
    "We flip the coin and the coin lands tails side up. Now we have performed an experiment and generated the data point $T$.\n",
    "We flip again and record a heads. $H$ is the second data point, and so on. \n",
    "\n",
    "---\n",
    "\n",
    "Now suppose that we conduct an experiment with the same sample space $(\\mathcal{G})$ a number $N$ times and with each experiment we record a data point.\n",
    "A tuple (i.e. ordered list) of data points $d$ is called a **data set** $\\mathcal{D} = (d_{1}, d_{2}, d_{3}, \\cdots, d_{N})$ where $d_{i}$ is the data point generated from the $i^\\text{th}$ experiment.\n",
    "We say that we have _drawn_ or that we have _sampled_ a data set $\\mathcal{D}$.\n",
    "Further, data points $(d)$ are often called _realized_ outcomes because they are no longer in a set of potential possibilities but are now determined items.\n",
    "\n",
    "A data set $\\mathcal{D}$ can be unwieldy depending on the number of data points, the complexity of the sample space, or both.\n",
    "A **data frame** is one way to organize a data set.\n",
    "A data frame $\\mathcal{F}$ is a table where each data point $d$ in a dataset $\\mathcal{D}$ is represented as a row in the table.\n",
    "Each data point may contains multiple pieces of information.\n",
    "That is, each data point may itself be a tuple. \n",
    "In this case, then a separate column is created for each position in the tuple.\n",
    "\n",
    "---\n",
    "\n",
    "*Example Human predictions of infectious diseases:*\n",
    "Suppose we design an experiment to collect from humans predictions, two weeks ahead from the time of our experiment, of the number of incident cases and incident deaths at the US national level of COVID-19 ([Source](https://www.ncbi.nlm.nih.gov/pmc/articles/PMC7523166/)).\n",
    "We decide to collect from each human whether they are an expert in the modeling of infectious disease, a prediction of incident cases, and a prediction of incident deaths.\n",
    "We draw a data set $\\mathcal{D}$ of 50 human judgment predictions.\n",
    "We can organize this data set into a data frame:\n",
    "\n",
    "| Expert | Prediction of cases | Prediction of deaths |\n",
    "|--------|---------------------|----------------------|\n",
    "| Yes    | 145                 | 52                  |\n",
    "| No     | 215                 | 34                  |\n",
    "| Yes    | 524                 | 48                  |\n",
    "| Yes    | 265                 | 95                  |\n",
    "| No     | 354                 | 35                  |\n",
    "\n",
    "**Table:** Example data frame $\\mathcal{F}$ built from a data set $\\mathcal{D}$ that contains 5 data points where each data point is a tuple of length three.\n",
    "\n",
    "---\n",
    "\n",
    "Above, the first data point is $(\\text{Yes},145,52)$, the second data point is $(\\text{No}, 215, 34)$, and so on until the last data point $(\\text{No}, 354, 35)$.\n",
    "A data frame can also include informative information for others such as labels for each column.\n"
   ]
  },
  {
   "cell_type": "markdown",
   "id": "a5327757-bf8f-4e51-b8c2-b4240120fb55",
   "metadata": {},
   "source": [
    "## Pandas \n",
    "\n",
    "The **pandas** module in Python is, by far, the most used set of tools for interacting with data, data points, and data frames. The documentation for Pandas is available here = [link](https://pandas.pydata.org/docs/). \n",
    "\n",
    "Pandas allows a structured way to import, organize, access, and compute with data frames. \n",
    "But first, we need to discuss the fundemental object in pandas---the **Series**. \n",
    "\n",
    "### Series\n",
    "A **Series** is (1) a list of items plus (2) an index, a list of string values that are associated with each item in (1).\n",
    "\n",
    "The typical may to define a Series is by called ```pd.Series``` and inputting a list and index. \n",
    "For example, the first two data points of out above coin flip experiment were tails and then heads.\n",
    "Lets assign \"tails\" the value 0 and \"heads\" the value 1 to make this more numerically friendly. "
   ]
  },
  {
   "cell_type": "code",
   "execution_count": 73,
   "id": "8747032d-857b-41d2-bacf-076b6bb1fde8",
   "metadata": {},
   "outputs": [
    {
     "name": "stdout",
     "output_type": "stream",
     "text": [
      "flip1    0\n",
      "flip2    1\n",
      "dtype: int64\n"
     ]
    }
   ],
   "source": [
    "import pandas as pd                                     #<--Import pandas (only needed once)\n",
    "coin_flips = pd.Series([0,1], index=[\"flip1\", \"flip2\"]) #<--Create a Series\n",
    "print(coin_flips)                                       # Print this out so we can see what this object looks like"
   ]
  },
  {
   "cell_type": "markdown",
   "id": "e120c38c-b550-401e-a321-b38cdba4ed92",
   "metadata": {},
   "source": [
    "We see that a series object was created where all the values are integers.\n",
    "This is a rule for Series, they cannot be \"mixed\" type such as character and integer or integer and floats (decimals values).   \n",
    "\n",
    "The index for our series is displayed on the left side.\n",
    "We can access items in a series using the index like this. "
   ]
  },
  {
   "cell_type": "code",
   "execution_count": 74,
   "id": "428b67a2-84c8-4c1d-8e72-9b78c539540b",
   "metadata": {},
   "outputs": [
    {
     "data": {
      "text/plain": [
       "0"
      ]
     },
     "execution_count": 74,
     "metadata": {},
     "output_type": "execute_result"
    }
   ],
   "source": [
    "coin_flips.get(\"flip1\")"
   ]
  },
  {
   "cell_type": "markdown",
   "id": "2ee2a8c4-e858-403b-a82c-d2665a2e7301",
   "metadata": {},
   "source": [
    "or like this "
   ]
  },
  {
   "cell_type": "code",
   "execution_count": 75,
   "id": "cfecc6f9-c5f3-4e7d-970a-f2701646be79",
   "metadata": {},
   "outputs": [
    {
     "data": {
      "text/plain": [
       "0"
      ]
     },
     "execution_count": 75,
     "metadata": {},
     "output_type": "execute_result"
    }
   ],
   "source": [
    "coin_flips[\"flip1\"]"
   ]
  },
  {
   "cell_type": "markdown",
   "id": "9ad0acd4-cf65-4657-a84c-f32db5050cf5",
   "metadata": {},
   "source": [
    "Like most objects in Python, a series is a type of dictionary.\n",
    "The \"keys\" of the dictionary are the index values and the \"values\" of the dictionary are the items in the list. \n",
    "In fact, we can build a series from a dictionary."
   ]
  },
  {
   "cell_type": "code",
   "execution_count": 76,
   "id": "f2fb4155-6b40-43e8-b3cd-e61824dbbd1b",
   "metadata": {},
   "outputs": [
    {
     "data": {
      "text/plain": [
       "flip1    0\n",
       "flip2    1\n",
       "dtype: int64"
      ]
     },
     "execution_count": 76,
     "metadata": {},
     "output_type": "execute_result"
    }
   ],
   "source": [
    "coin_flips = pd.Series({\"flip1\":0,\"flip2\":1})\n",
    "coin_flips"
   ]
  },
  {
   "cell_type": "markdown",
   "id": "09bb82f8-a30b-48ed-a2f5-55e3df5edeb6",
   "metadata": {},
   "source": [
    "Finally, it should be noted that pandas Series objects can, for the most part, be treated the same as numpy arrays. \n",
    "Series support vectorized operations. \n",
    "That is, adding/multiplying/dividing/subtracting a constant $c$ applys to all items in the series."
   ]
  },
  {
   "cell_type": "code",
   "execution_count": 77,
   "id": "3907fc67-b748-4b53-8f10-ae9ef1badc87",
   "metadata": {},
   "outputs": [
    {
     "data": {
      "text/plain": [
       "flip1    2\n",
       "flip2    3\n",
       "dtype: int64"
      ]
     },
     "execution_count": 77,
     "metadata": {},
     "output_type": "execute_result"
    }
   ],
   "source": [
    "coin_flips+2 #<--vectorized addition"
   ]
  },
  {
   "cell_type": "markdown",
   "id": "f07552a3-7c14-4b6d-9630-68b185f5f878",
   "metadata": {},
   "source": [
    "Adding/multiplying/dividing/subtracting two vectors is computed elementwise "
   ]
  },
  {
   "cell_type": "code",
   "execution_count": 78,
   "id": "13f1ff8e-5286-477c-bab0-e59da1b53c23",
   "metadata": {},
   "outputs": [
    {
     "data": {
      "text/plain": [
       "flip1   -1\n",
       "flip2    2\n",
       "dtype: int64"
      ]
     },
     "execution_count": 78,
     "metadata": {},
     "output_type": "execute_result"
    }
   ],
   "source": [
    "coin_flips + (2* coin_flips-1)"
   ]
  },
  {
   "cell_type": "markdown",
   "id": "4ee4f42e-3c2e-4394-a551-6d76fad536d7",
   "metadata": {},
   "source": [
    "and applying any function to the series applies this function to each item in the series. "
   ]
  },
  {
   "cell_type": "code",
   "execution_count": 79,
   "id": "4667cfc0-1742-4577-b409-962ab5ecc530",
   "metadata": {},
   "outputs": [
    {
     "data": {
      "text/plain": [
       "flip1    1.648721\n",
       "flip2    2.718282\n",
       "dtype: float64"
      ]
     },
     "execution_count": 79,
     "metadata": {},
     "output_type": "execute_result"
    }
   ],
   "source": [
    "import numpy as np\n",
    "np.sqrt(np.exp(coin_flips+1))"
   ]
  },
  {
   "cell_type": "markdown",
   "id": "27e0e1ef-f318-4d7e-a5eb-6091ba0c12c1",
   "metadata": {},
   "source": [
    "## Data Frames\n",
    "\n",
    "In pandas, **data frames** are organized the same as our above definition for a data frame. \n",
    "Rows denote observations and each column corresponds to one piece of information about each outcome/observation.\n",
    "\n",
    "To build a data frame in python from scratch, you can (1) define a dictionary such that the each key is a string that corresponds to a column name and each value is a list where the first item in the list corresponds to information about the first outcome (or observation), the second item in the list corresponds to information about the second observation, and so on. An example is helpful here. \n",
    "\n",
    "Lets build the above data frame of human judgment predictions of COVID-19. \n",
    "We need three columns: expert, cases, deaths. \n",
    "The expert column has the information (Yes, No, Yes, Yes, No).\n",
    "The cases column has the information (145, 215, 524, 265, 35)\t\n",
    "and so on. "
   ]
  },
  {
   "cell_type": "code",
   "execution_count": 80,
   "id": "6186aa7c-981e-473f-a628-d88312992a66",
   "metadata": {},
   "outputs": [
    {
     "name": "stdout",
     "output_type": "stream",
     "text": [
      "  expert  cases  deaths\n",
      "0    Yes    145      52\n",
      "1     No    215      34\n",
      "2    Yes    524      48\n",
      "3    Yes    265      95\n",
      "4     No    354      35\n"
     ]
    }
   ],
   "source": [
    "import pandas as pd\n",
    "human_judgment_predictions = {\"expert\"  :[\"Yes\",\"No\",\"Yes\",\"Yes\",\"No\"]\n",
    "                              , \"cases\" :[145  ,215 ,524  ,265  ,354]\n",
    "                              , \"deaths\":[52   ,34  ,48   ,95   ,35]}\n",
    "human_judgment_predictions_data_frame = pd.DataFrame(human_judgment_predictions) #<--This converts our dict to a pandas data frame \n",
    "print(human_judgment_predictions_data_frame)"
   ]
  },
  {
   "cell_type": "markdown",
   "id": "0155ec26-7b6f-4cf7-949c-dba6d05f93d8",
   "metadata": {},
   "source": [
    "In many instances we will import a csv, excel, or similar type of tabular data into a python pandas data frame.\n",
    "To load in a pandas data frame from a csv file, we can use the ```pd.read_csv```.\n",
    "For an excel file we can use ```pd.read_excel```. \n",
    "There are many \"read\" options in pandas.\n",
    "\n",
    "--- \n",
    "*Example Billion-Dollar Weather and Climate Disasters:*\n",
    "US National Centers for Environmental Information maintains an inventory of the most costly such disasters in the US. \n",
    "\n",
    "To load in the data called ```\"events-US-1980-2024.csv\"``` that documents these disasters from 1980 to present, we can write"
   ]
  },
  {
   "cell_type": "code",
   "execution_count": 81,
   "id": "0ac1c726-3dc7-40b5-a36c-818902ccb713",
   "metadata": {},
   "outputs": [
    {
     "data": {
      "text/html": [
       "<div>\n",
       "<style scoped>\n",
       "    .dataframe tbody tr th:only-of-type {\n",
       "        vertical-align: middle;\n",
       "    }\n",
       "\n",
       "    .dataframe tbody tr th {\n",
       "        vertical-align: top;\n",
       "    }\n",
       "\n",
       "    .dataframe thead th {\n",
       "        text-align: right;\n",
       "    }\n",
       "</style>\n",
       "<table border=\"1\" class=\"dataframe\">\n",
       "  <thead>\n",
       "    <tr style=\"text-align: right;\">\n",
       "      <th></th>\n",
       "      <th>Name</th>\n",
       "      <th>Disaster</th>\n",
       "      <th>Begin Date</th>\n",
       "      <th>End Date</th>\n",
       "      <th>CPI-Adjusted Cost</th>\n",
       "      <th>Unadjusted Cost</th>\n",
       "      <th>Deaths</th>\n",
       "    </tr>\n",
       "  </thead>\n",
       "  <tbody>\n",
       "    <tr>\n",
       "      <th>0</th>\n",
       "      <td>Southern Severe Storms and Flooding (April 1980)</td>\n",
       "      <td>Flooding</td>\n",
       "      <td>19800410</td>\n",
       "      <td>19800417</td>\n",
       "      <td>2742.3</td>\n",
       "      <td>706.8</td>\n",
       "      <td>7</td>\n",
       "    </tr>\n",
       "    <tr>\n",
       "      <th>1</th>\n",
       "      <td>Hurricane Allen (August 1980)</td>\n",
       "      <td>Tropical Cyclone</td>\n",
       "      <td>19800807</td>\n",
       "      <td>19800811</td>\n",
       "      <td>2230.2</td>\n",
       "      <td>590</td>\n",
       "      <td>13</td>\n",
       "    </tr>\n",
       "    <tr>\n",
       "      <th>2</th>\n",
       "      <td>Central/Eastern Drought/Heat Wave (Summer-Fall...</td>\n",
       "      <td>Drought</td>\n",
       "      <td>19800601</td>\n",
       "      <td>19801130</td>\n",
       "      <td>40480.8</td>\n",
       "      <td>10020</td>\n",
       "      <td>1260</td>\n",
       "    </tr>\n",
       "    <tr>\n",
       "      <th>3</th>\n",
       "      <td>Florida Freeze (January 1981)</td>\n",
       "      <td>Freeze</td>\n",
       "      <td>19810112</td>\n",
       "      <td>19810114</td>\n",
       "      <td>2070.6</td>\n",
       "      <td>572</td>\n",
       "      <td>0</td>\n",
       "    </tr>\n",
       "    <tr>\n",
       "      <th>4</th>\n",
       "      <td>Severe Storms, Flash Floods, Hail, Tornadoes (...</td>\n",
       "      <td>Severe Storm</td>\n",
       "      <td>19810505</td>\n",
       "      <td>19810510</td>\n",
       "      <td>1405.2</td>\n",
       "      <td>401.4</td>\n",
       "      <td>20</td>\n",
       "    </tr>\n",
       "    <tr>\n",
       "      <th>...</th>\n",
       "      <td>...</td>\n",
       "      <td>...</td>\n",
       "      <td>...</td>\n",
       "      <td>...</td>\n",
       "      <td>...</td>\n",
       "      <td>...</td>\n",
       "      <td>...</td>\n",
       "    </tr>\n",
       "    <tr>\n",
       "      <th>395</th>\n",
       "      <td>Hurricane Beryl (July 2024)</td>\n",
       "      <td>Tropical Cyclone</td>\n",
       "      <td>20240708</td>\n",
       "      <td>20240708</td>\n",
       "      <td>7219</td>\n",
       "      <td>7219</td>\n",
       "      <td>45</td>\n",
       "    </tr>\n",
       "    <tr>\n",
       "      <th>396</th>\n",
       "      <td>Central and Eastern Tornado Outbreak and Sever...</td>\n",
       "      <td>Severe Storm</td>\n",
       "      <td>20240713</td>\n",
       "      <td>20240716</td>\n",
       "      <td>2435</td>\n",
       "      <td>2435</td>\n",
       "      <td>2</td>\n",
       "    </tr>\n",
       "    <tr>\n",
       "      <th>397</th>\n",
       "      <td>Hurricane Debby (August 2024)</td>\n",
       "      <td>Tropical Cyclone</td>\n",
       "      <td>20240805</td>\n",
       "      <td>20240809</td>\n",
       "      <td>2476</td>\n",
       "      <td>2476</td>\n",
       "      <td>10</td>\n",
       "    </tr>\n",
       "    <tr>\n",
       "      <th>398</th>\n",
       "      <td>Hurricane Helene (September 2024)</td>\n",
       "      <td>Tropical Cyclone</td>\n",
       "      <td>20240924</td>\n",
       "      <td>20240929</td>\n",
       "      <td>TBD</td>\n",
       "      <td>TBD</td>\n",
       "      <td>225</td>\n",
       "    </tr>\n",
       "    <tr>\n",
       "      <th>399</th>\n",
       "      <td>Hurricane Milton (August 2024)</td>\n",
       "      <td>Tropical Cyclone</td>\n",
       "      <td>20241009</td>\n",
       "      <td>20241010</td>\n",
       "      <td>TBD</td>\n",
       "      <td>TBD</td>\n",
       "      <td>24</td>\n",
       "    </tr>\n",
       "  </tbody>\n",
       "</table>\n",
       "<p>400 rows × 7 columns</p>\n",
       "</div>"
      ],
      "text/plain": [
       "                                                  Name          Disaster  \\\n",
       "0     Southern Severe Storms and Flooding (April 1980)          Flooding   \n",
       "1                        Hurricane Allen (August 1980)  Tropical Cyclone   \n",
       "2    Central/Eastern Drought/Heat Wave (Summer-Fall...           Drought   \n",
       "3                        Florida Freeze (January 1981)            Freeze   \n",
       "4    Severe Storms, Flash Floods, Hail, Tornadoes (...      Severe Storm   \n",
       "..                                                 ...               ...   \n",
       "395                        Hurricane Beryl (July 2024)  Tropical Cyclone   \n",
       "396  Central and Eastern Tornado Outbreak and Sever...      Severe Storm   \n",
       "397                      Hurricane Debby (August 2024)  Tropical Cyclone   \n",
       "398                  Hurricane Helene (September 2024)  Tropical Cyclone   \n",
       "399                     Hurricane Milton (August 2024)  Tropical Cyclone   \n",
       "\n",
       "     Begin Date  End Date CPI-Adjusted Cost Unadjusted Cost  Deaths  \n",
       "0      19800410  19800417            2742.3           706.8       7  \n",
       "1      19800807  19800811            2230.2             590      13  \n",
       "2      19800601  19801130           40480.8           10020    1260  \n",
       "3      19810112  19810114            2070.6             572       0  \n",
       "4      19810505  19810510            1405.2           401.4      20  \n",
       "..          ...       ...               ...             ...     ...  \n",
       "395    20240708  20240708              7219            7219      45  \n",
       "396    20240713  20240716              2435            2435       2  \n",
       "397    20240805  20240809              2476            2476      10  \n",
       "398    20240924  20240929               TBD             TBD     225  \n",
       "399    20241009  20241010               TBD             TBD      24  \n",
       "\n",
       "[400 rows x 7 columns]"
      ]
     },
     "execution_count": 81,
     "metadata": {},
     "output_type": "execute_result"
    }
   ],
   "source": [
    "disasters = pd.read_csv(\"events-US-1980-2024.csv\")\n",
    "disasters"
   ]
  },
  {
   "cell_type": "markdown",
   "id": "226eae2b-a10f-4c9e-bfe8-665cf439a683",
   "metadata": {},
   "source": [
    "### Selecting columns\n",
    "\n",
    "To select a column from a dataframe $D$, we call the dataframe and use brackets to call the column we want to select. Like this."
   ]
  },
  {
   "cell_type": "code",
   "execution_count": 82,
   "id": "c256d8dc-7834-4b2e-be91-3dcc91a8afcd",
   "metadata": {},
   "outputs": [
    {
     "data": {
      "text/plain": [
       "0              Flooding\n",
       "1      Tropical Cyclone\n",
       "2               Drought\n",
       "3                Freeze\n",
       "4          Severe Storm\n",
       "             ...       \n",
       "395    Tropical Cyclone\n",
       "396        Severe Storm\n",
       "397    Tropical Cyclone\n",
       "398    Tropical Cyclone\n",
       "399    Tropical Cyclone\n",
       "Name: Disaster, Length: 400, dtype: object"
      ]
     },
     "execution_count": 82,
     "metadata": {},
     "output_type": "execute_result"
    }
   ],
   "source": [
    "disasters[\"Disaster\"]"
   ]
  },
  {
   "cell_type": "markdown",
   "id": "6c0891d2-6072-4c38-947c-2e02f5ee7743",
   "metadata": {},
   "source": [
    "Note that the column name is wrapped in quotes, its a string. \n",
    "We can select multiple columns by providing a list of strings.\n",
    "\n",
    "Below we will select the two columns \"Disaster\" and \"Name\" (the name of the disaster). "
   ]
  },
  {
   "cell_type": "code",
   "execution_count": 83,
   "id": "fcc01efc-d4a2-4108-8a69-ce8f57b15320",
   "metadata": {},
   "outputs": [
    {
     "data": {
      "text/html": [
       "<div>\n",
       "<style scoped>\n",
       "    .dataframe tbody tr th:only-of-type {\n",
       "        vertical-align: middle;\n",
       "    }\n",
       "\n",
       "    .dataframe tbody tr th {\n",
       "        vertical-align: top;\n",
       "    }\n",
       "\n",
       "    .dataframe thead th {\n",
       "        text-align: right;\n",
       "    }\n",
       "</style>\n",
       "<table border=\"1\" class=\"dataframe\">\n",
       "  <thead>\n",
       "    <tr style=\"text-align: right;\">\n",
       "      <th></th>\n",
       "      <th>Disaster</th>\n",
       "      <th>Name</th>\n",
       "    </tr>\n",
       "  </thead>\n",
       "  <tbody>\n",
       "    <tr>\n",
       "      <th>0</th>\n",
       "      <td>Flooding</td>\n",
       "      <td>Southern Severe Storms and Flooding (April 1980)</td>\n",
       "    </tr>\n",
       "    <tr>\n",
       "      <th>1</th>\n",
       "      <td>Tropical Cyclone</td>\n",
       "      <td>Hurricane Allen (August 1980)</td>\n",
       "    </tr>\n",
       "    <tr>\n",
       "      <th>2</th>\n",
       "      <td>Drought</td>\n",
       "      <td>Central/Eastern Drought/Heat Wave (Summer-Fall...</td>\n",
       "    </tr>\n",
       "    <tr>\n",
       "      <th>3</th>\n",
       "      <td>Freeze</td>\n",
       "      <td>Florida Freeze (January 1981)</td>\n",
       "    </tr>\n",
       "    <tr>\n",
       "      <th>4</th>\n",
       "      <td>Severe Storm</td>\n",
       "      <td>Severe Storms, Flash Floods, Hail, Tornadoes (...</td>\n",
       "    </tr>\n",
       "    <tr>\n",
       "      <th>...</th>\n",
       "      <td>...</td>\n",
       "      <td>...</td>\n",
       "    </tr>\n",
       "    <tr>\n",
       "      <th>395</th>\n",
       "      <td>Tropical Cyclone</td>\n",
       "      <td>Hurricane Beryl (July 2024)</td>\n",
       "    </tr>\n",
       "    <tr>\n",
       "      <th>396</th>\n",
       "      <td>Severe Storm</td>\n",
       "      <td>Central and Eastern Tornado Outbreak and Sever...</td>\n",
       "    </tr>\n",
       "    <tr>\n",
       "      <th>397</th>\n",
       "      <td>Tropical Cyclone</td>\n",
       "      <td>Hurricane Debby (August 2024)</td>\n",
       "    </tr>\n",
       "    <tr>\n",
       "      <th>398</th>\n",
       "      <td>Tropical Cyclone</td>\n",
       "      <td>Hurricane Helene (September 2024)</td>\n",
       "    </tr>\n",
       "    <tr>\n",
       "      <th>399</th>\n",
       "      <td>Tropical Cyclone</td>\n",
       "      <td>Hurricane Milton (August 2024)</td>\n",
       "    </tr>\n",
       "  </tbody>\n",
       "</table>\n",
       "<p>400 rows × 2 columns</p>\n",
       "</div>"
      ],
      "text/plain": [
       "             Disaster                                               Name\n",
       "0            Flooding   Southern Severe Storms and Flooding (April 1980)\n",
       "1    Tropical Cyclone                      Hurricane Allen (August 1980)\n",
       "2             Drought  Central/Eastern Drought/Heat Wave (Summer-Fall...\n",
       "3              Freeze                      Florida Freeze (January 1981)\n",
       "4        Severe Storm  Severe Storms, Flash Floods, Hail, Tornadoes (...\n",
       "..                ...                                                ...\n",
       "395  Tropical Cyclone                        Hurricane Beryl (July 2024)\n",
       "396      Severe Storm  Central and Eastern Tornado Outbreak and Sever...\n",
       "397  Tropical Cyclone                      Hurricane Debby (August 2024)\n",
       "398  Tropical Cyclone                  Hurricane Helene (September 2024)\n",
       "399  Tropical Cyclone                     Hurricane Milton (August 2024)\n",
       "\n",
       "[400 rows x 2 columns]"
      ]
     },
     "execution_count": 83,
     "metadata": {},
     "output_type": "execute_result"
    }
   ],
   "source": [
    "disasters[[\"Disaster\",\"Name\"]]"
   ]
  },
  {
   "cell_type": "markdown",
   "id": "cd990946-209c-4cf2-9506-a61123032fff",
   "metadata": {
    "editable": true,
    "slideshow": {
     "slide_type": ""
    },
    "tags": []
   },
   "source": [
    "### Selecting rows \n",
    "\n",
    "The first way to select rows is by *slicing*.\n",
    "We can *slice* rows by providing a range of rows to select from beginning:end.\n",
    "For example, if we want to select the 3rd, 4th, up to the 9th row, we can write"
   ]
  },
  {
   "cell_type": "code",
   "execution_count": 84,
   "id": "55a2f658-6eea-4b0d-a234-a2e53eb6ddc6",
   "metadata": {},
   "outputs": [
    {
     "data": {
      "text/html": [
       "<div>\n",
       "<style scoped>\n",
       "    .dataframe tbody tr th:only-of-type {\n",
       "        vertical-align: middle;\n",
       "    }\n",
       "\n",
       "    .dataframe tbody tr th {\n",
       "        vertical-align: top;\n",
       "    }\n",
       "\n",
       "    .dataframe thead th {\n",
       "        text-align: right;\n",
       "    }\n",
       "</style>\n",
       "<table border=\"1\" class=\"dataframe\">\n",
       "  <thead>\n",
       "    <tr style=\"text-align: right;\">\n",
       "      <th></th>\n",
       "      <th>Name</th>\n",
       "      <th>Disaster</th>\n",
       "      <th>Begin Date</th>\n",
       "      <th>End Date</th>\n",
       "      <th>CPI-Adjusted Cost</th>\n",
       "      <th>Unadjusted Cost</th>\n",
       "      <th>Deaths</th>\n",
       "    </tr>\n",
       "  </thead>\n",
       "  <tbody>\n",
       "    <tr>\n",
       "      <th>3</th>\n",
       "      <td>Florida Freeze (January 1981)</td>\n",
       "      <td>Freeze</td>\n",
       "      <td>19810112</td>\n",
       "      <td>19810114</td>\n",
       "      <td>2070.6</td>\n",
       "      <td>572</td>\n",
       "      <td>0</td>\n",
       "    </tr>\n",
       "    <tr>\n",
       "      <th>4</th>\n",
       "      <td>Severe Storms, Flash Floods, Hail, Tornadoes (...</td>\n",
       "      <td>Severe Storm</td>\n",
       "      <td>19810505</td>\n",
       "      <td>19810510</td>\n",
       "      <td>1405.2</td>\n",
       "      <td>401.4</td>\n",
       "      <td>20</td>\n",
       "    </tr>\n",
       "    <tr>\n",
       "      <th>5</th>\n",
       "      <td>Midwest/Southeast/Northeast Winter Storm, Cold...</td>\n",
       "      <td>Winter Storm</td>\n",
       "      <td>19820108</td>\n",
       "      <td>19820116</td>\n",
       "      <td>2211.1</td>\n",
       "      <td>662</td>\n",
       "      <td>85</td>\n",
       "    </tr>\n",
       "    <tr>\n",
       "      <th>6</th>\n",
       "      <td>Midwest/Plains/Southeast Tornadoes (April 1982)</td>\n",
       "      <td>Severe Storm</td>\n",
       "      <td>19820402</td>\n",
       "      <td>19820404</td>\n",
       "      <td>1599.5</td>\n",
       "      <td>483.2</td>\n",
       "      <td>33</td>\n",
       "    </tr>\n",
       "    <tr>\n",
       "      <th>7</th>\n",
       "      <td>Severe Storms (June 1982)</td>\n",
       "      <td>Severe Storm</td>\n",
       "      <td>19820531</td>\n",
       "      <td>19820610</td>\n",
       "      <td>1574.2</td>\n",
       "      <td>479.9</td>\n",
       "      <td>30</td>\n",
       "    </tr>\n",
       "    <tr>\n",
       "      <th>8</th>\n",
       "      <td>Gulf States Storms and Flooding (December 1982...</td>\n",
       "      <td>Flooding</td>\n",
       "      <td>19821201</td>\n",
       "      <td>19830115</td>\n",
       "      <td>4930.7</td>\n",
       "      <td>1536.1</td>\n",
       "      <td>45</td>\n",
       "    </tr>\n",
       "    <tr>\n",
       "      <th>9</th>\n",
       "      <td>Western Storms and Flooding (December 1982-Mar...</td>\n",
       "      <td>Flooding</td>\n",
       "      <td>19821213</td>\n",
       "      <td>19830331</td>\n",
       "      <td>4813.8</td>\n",
       "      <td>1499.6</td>\n",
       "      <td>50</td>\n",
       "    </tr>\n",
       "  </tbody>\n",
       "</table>\n",
       "</div>"
      ],
      "text/plain": [
       "                                                Name      Disaster  \\\n",
       "3                      Florida Freeze (January 1981)        Freeze   \n",
       "4  Severe Storms, Flash Floods, Hail, Tornadoes (...  Severe Storm   \n",
       "5  Midwest/Southeast/Northeast Winter Storm, Cold...  Winter Storm   \n",
       "6    Midwest/Plains/Southeast Tornadoes (April 1982)  Severe Storm   \n",
       "7                          Severe Storms (June 1982)  Severe Storm   \n",
       "8  Gulf States Storms and Flooding (December 1982...      Flooding   \n",
       "9  Western Storms and Flooding (December 1982-Mar...      Flooding   \n",
       "\n",
       "   Begin Date  End Date CPI-Adjusted Cost Unadjusted Cost  Deaths  \n",
       "3    19810112  19810114            2070.6             572       0  \n",
       "4    19810505  19810510            1405.2           401.4      20  \n",
       "5    19820108  19820116            2211.1             662      85  \n",
       "6    19820402  19820404            1599.5           483.2      33  \n",
       "7    19820531  19820610            1574.2           479.9      30  \n",
       "8    19821201  19830115            4930.7          1536.1      45  \n",
       "9    19821213  19830331            4813.8          1499.6      50  "
      ]
     },
     "execution_count": 84,
     "metadata": {},
     "output_type": "execute_result"
    }
   ],
   "source": [
    "disasters[3:10]"
   ]
  },
  {
   "cell_type": "markdown",
   "id": "1c731906-113e-49cf-929c-4d42e92791cd",
   "metadata": {},
   "source": [
    "More often than not, you will use the ```.loc``` attribute to select rows. \n",
    "You can select rows based on their index name"
   ]
  },
  {
   "cell_type": "code",
   "execution_count": 85,
   "id": "bd65cfca-850d-479b-a288-ee7c809c8c16",
   "metadata": {},
   "outputs": [
    {
     "data": {
      "text/plain": [
       "Name                 Severe Storms, Flash Floods, Hail, Tornadoes (...\n",
       "Disaster                                                  Severe Storm\n",
       "Begin Date                                                    19810505\n",
       "End Date                                                      19810510\n",
       "CPI-Adjusted Cost                                               1405.2\n",
       "Unadjusted Cost                                                  401.4\n",
       "Deaths                                                              20\n",
       "Name: 4, dtype: object"
      ]
     },
     "execution_count": 85,
     "metadata": {},
     "output_type": "execute_result"
    }
   ],
   "source": [
    "disasters.loc[4]"
   ]
  },
  {
   "cell_type": "markdown",
   "id": "051e2df9-13b1-4390-a90f-5a2723e02920",
   "metadata": {},
   "source": [
    "and, even more important, you can select rows via *boolean indexing*.\n",
    "Boolean indexing supplies the data frame with a list that has the same length as the number of rows of the data frame that contains the values True and False.\n",
    "The rows corresponding to True values are returned. \n",
    "\n",
    "Creating boolean lists based on our data frame is easy.\n",
    "For example, suppose we cant to identify (with True and False) the disasters that results in more than 20 deaths.\n",
    "We can write the following expression "
   ]
  },
  {
   "cell_type": "code",
   "execution_count": 86,
   "id": "fc77d99e-a450-41c1-958d-856c8db7934e",
   "metadata": {},
   "outputs": [
    {
     "data": {
      "text/plain": [
       "0      False\n",
       "1      False\n",
       "2       True\n",
       "3      False\n",
       "4      False\n",
       "       ...  \n",
       "395     True\n",
       "396    False\n",
       "397    False\n",
       "398     True\n",
       "399     True\n",
       "Name: Deaths, Length: 400, dtype: bool"
      ]
     },
     "execution_count": 86,
     "metadata": {},
     "output_type": "execute_result"
    }
   ],
   "source": [
    "disasters[\"Deaths\"] > 20"
   ]
  },
  {
   "cell_type": "markdown",
   "id": "e4a3b970-a2a8-4bc0-b6fd-a5eea4dc197e",
   "metadata": {},
   "source": [
    "This Boolean list can be used to select all the rows with more than 20 deaths like"
   ]
  },
  {
   "cell_type": "code",
   "execution_count": 87,
   "id": "82d94953-8650-4478-881f-3cf867dc5ce1",
   "metadata": {},
   "outputs": [
    {
     "data": {
      "text/html": [
       "<div>\n",
       "<style scoped>\n",
       "    .dataframe tbody tr th:only-of-type {\n",
       "        vertical-align: middle;\n",
       "    }\n",
       "\n",
       "    .dataframe tbody tr th {\n",
       "        vertical-align: top;\n",
       "    }\n",
       "\n",
       "    .dataframe thead th {\n",
       "        text-align: right;\n",
       "    }\n",
       "</style>\n",
       "<table border=\"1\" class=\"dataframe\">\n",
       "  <thead>\n",
       "    <tr style=\"text-align: right;\">\n",
       "      <th></th>\n",
       "      <th>Name</th>\n",
       "      <th>Disaster</th>\n",
       "      <th>Begin Date</th>\n",
       "      <th>End Date</th>\n",
       "      <th>CPI-Adjusted Cost</th>\n",
       "      <th>Unadjusted Cost</th>\n",
       "      <th>Deaths</th>\n",
       "    </tr>\n",
       "  </thead>\n",
       "  <tbody>\n",
       "    <tr>\n",
       "      <th>2</th>\n",
       "      <td>Central/Eastern Drought/Heat Wave (Summer-Fall...</td>\n",
       "      <td>Drought</td>\n",
       "      <td>19800601</td>\n",
       "      <td>19801130</td>\n",
       "      <td>40480.8</td>\n",
       "      <td>10020</td>\n",
       "      <td>1260</td>\n",
       "    </tr>\n",
       "    <tr>\n",
       "      <th>5</th>\n",
       "      <td>Midwest/Southeast/Northeast Winter Storm, Cold...</td>\n",
       "      <td>Winter Storm</td>\n",
       "      <td>19820108</td>\n",
       "      <td>19820116</td>\n",
       "      <td>2211.1</td>\n",
       "      <td>662</td>\n",
       "      <td>85</td>\n",
       "    </tr>\n",
       "    <tr>\n",
       "      <th>6</th>\n",
       "      <td>Midwest/Plains/Southeast Tornadoes (April 1982)</td>\n",
       "      <td>Severe Storm</td>\n",
       "      <td>19820402</td>\n",
       "      <td>19820404</td>\n",
       "      <td>1599.5</td>\n",
       "      <td>483.2</td>\n",
       "      <td>33</td>\n",
       "    </tr>\n",
       "    <tr>\n",
       "      <th>7</th>\n",
       "      <td>Severe Storms (June 1982)</td>\n",
       "      <td>Severe Storm</td>\n",
       "      <td>19820531</td>\n",
       "      <td>19820610</td>\n",
       "      <td>1574.2</td>\n",
       "      <td>479.9</td>\n",
       "      <td>30</td>\n",
       "    </tr>\n",
       "    <tr>\n",
       "      <th>8</th>\n",
       "      <td>Gulf States Storms and Flooding (December 1982...</td>\n",
       "      <td>Flooding</td>\n",
       "      <td>19821201</td>\n",
       "      <td>19830115</td>\n",
       "      <td>4930.7</td>\n",
       "      <td>1536.1</td>\n",
       "      <td>45</td>\n",
       "    </tr>\n",
       "    <tr>\n",
       "      <th>...</th>\n",
       "      <td>...</td>\n",
       "      <td>...</td>\n",
       "      <td>...</td>\n",
       "      <td>...</td>\n",
       "      <td>...</td>\n",
       "      <td>...</td>\n",
       "      <td>...</td>\n",
       "    </tr>\n",
       "    <tr>\n",
       "      <th>374</th>\n",
       "      <td>Southern/Midwestern Drought and Heatwave (Spri...</td>\n",
       "      <td>Drought</td>\n",
       "      <td>20230401</td>\n",
       "      <td>20230930</td>\n",
       "      <td>14786.7</td>\n",
       "      <td>14082</td>\n",
       "      <td>247</td>\n",
       "    </tr>\n",
       "    <tr>\n",
       "      <th>378</th>\n",
       "      <td>Central, Southern, Northeastern Winter Storm a...</td>\n",
       "      <td>Winter Storm</td>\n",
       "      <td>20240114</td>\n",
       "      <td>20240118</td>\n",
       "      <td>1948.3</td>\n",
       "      <td>1910</td>\n",
       "      <td>41</td>\n",
       "    </tr>\n",
       "    <tr>\n",
       "      <th>395</th>\n",
       "      <td>Hurricane Beryl (July 2024)</td>\n",
       "      <td>Tropical Cyclone</td>\n",
       "      <td>20240708</td>\n",
       "      <td>20240708</td>\n",
       "      <td>7219</td>\n",
       "      <td>7219</td>\n",
       "      <td>45</td>\n",
       "    </tr>\n",
       "    <tr>\n",
       "      <th>398</th>\n",
       "      <td>Hurricane Helene (September 2024)</td>\n",
       "      <td>Tropical Cyclone</td>\n",
       "      <td>20240924</td>\n",
       "      <td>20240929</td>\n",
       "      <td>TBD</td>\n",
       "      <td>TBD</td>\n",
       "      <td>225</td>\n",
       "    </tr>\n",
       "    <tr>\n",
       "      <th>399</th>\n",
       "      <td>Hurricane Milton (August 2024)</td>\n",
       "      <td>Tropical Cyclone</td>\n",
       "      <td>20241009</td>\n",
       "      <td>20241010</td>\n",
       "      <td>TBD</td>\n",
       "      <td>TBD</td>\n",
       "      <td>24</td>\n",
       "    </tr>\n",
       "  </tbody>\n",
       "</table>\n",
       "<p>115 rows × 7 columns</p>\n",
       "</div>"
      ],
      "text/plain": [
       "                                                  Name          Disaster  \\\n",
       "2    Central/Eastern Drought/Heat Wave (Summer-Fall...           Drought   \n",
       "5    Midwest/Southeast/Northeast Winter Storm, Cold...      Winter Storm   \n",
       "6      Midwest/Plains/Southeast Tornadoes (April 1982)      Severe Storm   \n",
       "7                            Severe Storms (June 1982)      Severe Storm   \n",
       "8    Gulf States Storms and Flooding (December 1982...          Flooding   \n",
       "..                                                 ...               ...   \n",
       "374  Southern/Midwestern Drought and Heatwave (Spri...           Drought   \n",
       "378  Central, Southern, Northeastern Winter Storm a...      Winter Storm   \n",
       "395                        Hurricane Beryl (July 2024)  Tropical Cyclone   \n",
       "398                  Hurricane Helene (September 2024)  Tropical Cyclone   \n",
       "399                     Hurricane Milton (August 2024)  Tropical Cyclone   \n",
       "\n",
       "     Begin Date  End Date CPI-Adjusted Cost Unadjusted Cost  Deaths  \n",
       "2      19800601  19801130           40480.8           10020    1260  \n",
       "5      19820108  19820116            2211.1             662      85  \n",
       "6      19820402  19820404            1599.5           483.2      33  \n",
       "7      19820531  19820610            1574.2           479.9      30  \n",
       "8      19821201  19830115            4930.7          1536.1      45  \n",
       "..          ...       ...               ...             ...     ...  \n",
       "374    20230401  20230930           14786.7           14082     247  \n",
       "378    20240114  20240118            1948.3            1910      41  \n",
       "395    20240708  20240708              7219            7219      45  \n",
       "398    20240924  20240929               TBD             TBD     225  \n",
       "399    20241009  20241010               TBD             TBD      24  \n",
       "\n",
       "[115 rows x 7 columns]"
      ]
     },
     "execution_count": 87,
     "metadata": {},
     "output_type": "execute_result"
    }
   ],
   "source": [
    "disasters.loc[disasters[\"Deaths\"] > 20]"
   ]
  },
  {
   "cell_type": "code",
   "execution_count": null,
   "id": "b4ff58d9-21d5-4c96-9f01-201c30fa3d8a",
   "metadata": {},
   "outputs": [],
   "source": []
  },
  {
   "cell_type": "markdown",
   "id": "8098c498-c90a-49ec-92a3-43aaee3ac747",
   "metadata": {},
   "source": [
    "### adding new columns \n",
    "There are several different ways to add columns to a pandas data frame. \n",
    "The most straightforward way to add a column is to call the dataframe with a bracketed string and assign this the column values. \n",
    "\n",
    "For example, suppose we want to add a column to the above disasters data frame.\n",
    "This new column is going to be the number of deaths minus the mean number of deaths as a result of the disaster. \n"
   ]
  },
  {
   "cell_type": "code",
   "execution_count": null,
   "id": "a157d2d0-045a-4941-8562-901c822dd9c7",
   "metadata": {},
   "outputs": [],
   "source": [
    "disasters.assign( Flood = lambda x: x[\"Disaster\"].str.contains(\"Flood\") )"
   ]
  },
  {
   "cell_type": "markdown",
   "id": "5b1fe71b-32d5-4817-8a74-7d13271fe62f",
   "metadata": {},
   "source": [
    "Its important to note that the ```assign``` function returns the entire dataframe. \n",
    "This means that if we want to add the column \"Flood\" to our original dataframe we need to write."
   ]
  },
  {
   "cell_type": "code",
   "execution_count": null,
   "id": "3b47a3c4-0a8a-44d7-babc-ec50474509ed",
   "metadata": {},
   "outputs": [],
   "source": [
    "disasters = disasters.assign( Flood = lambda x: x[\"Disaster\"].str.contains(\"Flood\") )"
   ]
  },
  {
   "cell_type": "code",
   "execution_count": null,
   "id": "a8bc7cc6-6d6e-45fd-9ef9-6c07171609a6",
   "metadata": {},
   "outputs": [],
   "source": [
    "\n",
    "\n",
    "new columns (assign)\n",
    "\n",
    "indexing and selection\n",
    "\n",
    "info\n",
    "\n",
    "reading in data\n"
   ]
  }
 ],
 "metadata": {
  "kernelspec": {
   "display_name": "Python 3 (ipykernel)",
   "language": "python",
   "name": "python3"
  },
  "language_info": {
   "codemirror_mode": {
    "name": "ipython",
    "version": 3
   },
   "file_extension": ".py",
   "mimetype": "text/x-python",
   "name": "python",
   "nbconvert_exporter": "python",
   "pygments_lexer": "ipython3",
   "version": "3.10.16"
  }
 },
 "nbformat": 4,
 "nbformat_minor": 5
}
