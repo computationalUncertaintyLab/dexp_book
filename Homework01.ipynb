{
 "cells": [
  {
   "cell_type": "markdown",
   "id": "ecbcf4f5-8909-48a2-8c40-346f7ea73e05",
   "metadata": {
    "editable": true,
    "slideshow": {
     "slide_type": ""
    },
    "tags": []
   },
   "source": [
    "# Homework 01\n",
    "\n",
    "## Problem one\n",
    "\n",
    "For the \"crowd accident\" dataset [here](https://www.sciencedirect.com/science/article/pii/S0925753523001169?via%3Dihub), the below code stratifies observed fatalities caused by accidents into two groups: before the year 2000 (called ```fatalities_before2000```) and after, or equal, to the year 2000 (called ```fatalities_after2000```). \n",
    "\n",
    "The code below downloads these two lists and does not need to be modified. "
   ]
  },
  {
   "cell_type": "code",
   "execution_count": 3,
   "id": "f2e7db12-8b0f-4649-a0a2-f1cef0bb3962",
   "metadata": {},
   "outputs": [],
   "source": [
    "import pandas as pd \n",
    "d = pd.read_csv(\"https://zenodo.org/records/7523480/files/accident_data_numeric.csv?download=1\")\n",
    "\n",
    "d_before2000 = d.loc[d.Year<2000]\n",
    "d_after2000  = d.loc[d.Year>=2000]\n",
    "\n",
    "fatalities_before2000 =  d_before2000[\"Fatalities\"]\n",
    "fatalities_after2000  =  d_after2000[\"Fatalities\"]"
   ]
  },
  {
   "cell_type": "markdown",
   "id": "3bb57e29-ed97-4494-84f4-fc55b64a2a71",
   "metadata": {},
   "source": [
    "1. Please compute the mean, median, and standard deviation for the number of fatalities before and after the year 2000. What do these summary metrics tell you about the lethality of crowd accidents over time? "
   ]
  },
  {
   "cell_type": "markdown",
   "id": "02651833-4f2e-4e90-befb-efd952a12351",
   "metadata": {
    "editable": true,
    "slideshow": {
     "slide_type": ""
    },
    "tags": []
   },
   "source": [
    "## Problem two\n",
    "Given a dataset $\\mathcal{D}$, the **median absolute deviation (MAD)** is defined as the median of each individual datapoints difference from the median\n",
    "\n",
    "\\begin{align}\n",
    "    \\text{MAD}(\\mathcal{D}) = \\text{median}( d_{i}-\\text{median}(\\mathcal{D}) )\n",
    "\\end{align}\n",
    "\n",
    "where $\\text{median}(A)$ is the median of that set of datapoints contained in $A$.  \n",
    "\n",
    "2. Please write a python function that takes as input a list of values and outputs the MAD. This function can, and should, import numpy to make this computation easier. Use this function to compute the MAD for the number of fatalities before 2000 and the number of fatalities after 2000. What does the MAD tell you when compared to the standard deviation? Why might these values be different?"
   ]
  },
  {
   "cell_type": "markdown",
   "id": "c01a3eae-117d-4f87-b28e-38b216d7fb77",
   "metadata": {
    "editable": true,
    "slideshow": {
     "slide_type": ""
    },
    "tags": []
   },
   "source": [
    "## Problem three\n",
    "\n",
    "Recall that the variance is computed as \n",
    "\n",
    "\\begin{align}\n",
    "    v(\\mathcal{D}) \\approx N^{-1} \\sum_{i=1}^{N} \\left( d_{i} - \\bar{d} \\right)^{2} \\\\ \n",
    "\\end{align}\n",
    "\n",
    "Use algebra to simplify the variance computation.   \n",
    "Hint, expand the squared expression.  \n",
    "Hint2, Note that $N\\bar{d} = \\sum_{i=1}^{N} d_{i}$  \n",
    "\n"
   ]
  },
  {
   "cell_type": "markdown",
   "id": "f2f6cede-4572-4a47-ba55-9e36e79fb259",
   "metadata": {},
   "source": [
    "## Problem four\n",
    "\n",
    "Robust estimators of the central tendancy aim to return similar values between a dataset $\\mathcal{D}$ and a second dataset that is $\\mathcal{D}$ plus some uncharacteristically large or small value. \n",
    "We saw one example already---the median. \n",
    "Lets look at two more. \n",
    "\n",
    "The X\\% trimmed mean for the dataset $\\mathcal{D}$ first removes largest and the smallest X\\% of values then second computes the mean of this new dataset. \n",
    "\n",
    "4. Using the above crowd accident fatalities before and after 2000, compute the 5\\% trimmed mean.\n",
    "You can use the ```trim_mean``` function in scipy.stats to accomplish this. Compare the trimmed mean, mean, and median. Why are these values different? "
   ]
  },
  {
   "cell_type": "markdown",
   "id": "763f3dbe-8013-43d6-aa2a-02010f6ced04",
   "metadata": {},
   "source": [
    "## Problem five \n",
    "\n",
    "The X\\% **windosorized mean** is the following algorithm to compute the central tendency. \n",
    "Step one: Compute the Xth percentile and call this $u$ for \"upper\"\n",
    "Step two: Compute the 100-Xth percentile and call this $l$ for \"lower\"\n",
    "Step three: Replace any values in the dataset below $l$ with the value $l$. \n",
    "Step four: Replace any values in the dataset above $u$ with the value $u$. \n",
    "Step five: Compute the mean \n",
    "\n",
    "*Do not use an existing winsorize funciton from scipy to complete the following exercise*\n",
    "\n",
    "Write a function that inputs a list of data and the X\\% percentile. \n",
    "The function should return the  X\\% **windosorized mean**. Compute the 95\\% winsorized mean for fatalties before and after 2000 due to crowd accidents. "
   ]
  }
 ],
 "metadata": {
  "kernelspec": {
   "display_name": "Python 3 (ipykernel)",
   "language": "python",
   "name": "python3"
  },
  "language_info": {
   "codemirror_mode": {
    "name": "ipython",
    "version": 3
   },
   "file_extension": ".py",
   "mimetype": "text/x-python",
   "name": "python",
   "nbconvert_exporter": "python",
   "pygments_lexer": "ipython3",
   "version": "3.10.16"
  }
 },
 "nbformat": 4,
 "nbformat_minor": 5
}
