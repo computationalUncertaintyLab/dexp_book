{
 "cells": [
  {
   "cell_type": "markdown",
   "id": "f3f2b815-8858-46cb-a5e8-16656dae1dcf",
   "metadata": {},
   "source": [
    "# Forward Problem"
   ]
  },
  {
   "cell_type": "markdown",
   "id": "cc7b4081-e093-4974-b925-067a7752f3ff",
   "metadata": {},
   "source": [
    "```{contents} Table of Contents\n",
    ":depth: 3\n",
    "```"
   ]
  },
  {
   "cell_type": "markdown",
   "id": "1168307a-6e19-4a90-a49b-ce93eae5bdee",
   "metadata": {},
   "source": [
    "## Assumptions and setup\n",
    "\n",
    "Suppose that there exists $N$ individuals who can exist in one of three disease states starting at time $0$ and ending at time $T$:\n",
    "1. Susceptible - An individual is not infected at present but can be infected in the future.\n",
    "2. Infected - An individual is infected at present and can infect other susceptible individuals. \n",
    "3. Removed - An individual is no longer susceptible, nor infected, and cannot again become infected. \n",
    "\n",
    "- Assume, for each time unit, that all $N$ individuals come into contact with one another, and that each interaction is independent. \n",
    "When a susceptible comes into contact with an infected, the susceptible individual has a probability $p$ of moving from the susceptible state to the infected state ($S \\to I$). \n",
    "\n",
    "- Assume that if an individual is infected then they (1) are only infected for a single time unit and (2) after that time units ends they are removed. \n",
    "\n",
    "- Assume that the probability of infection should depend on the number of infected individuals in the population."
   ]
  },
  {
   "cell_type": "markdown",
   "id": "d9879591-dc8a-4ec7-8003-76b07ef102cd",
   "metadata": {},
   "source": [
    "## Probability of escape and infection\n",
    "\n",
    "Consider a single susceptible individual. \n",
    "At time $t$, this susceptible individual will contact all $I$ infected individuals. \n",
    "At each contact between the susceptible individual and one of the infected individuals, there is a probability $p$ that the infected individual is successful and infects this susceptible individual.\n",
    "\n",
    "If $p$ is the probability that an infected individual---often called can infector---can infect this susceptible then the probability that an infector does **not** infect this susceptible is $1-p$.\n",
    "Then the probability that this susceptible is not infected by the first member in $I$ is $(1-p)$ and the probability that this this susceptible is not infected by the first **and** second infector is \n",
    "\n",
    "$$\n",
    "(1-p) \\times (1-p)\n",
    "$$\n",
    "\n",
    "and so the probability that this susceptible is not infected by all infectors in $I$ is \n",
    "\n",
    "$$\n",
    "p(\\text{escape}) = (1-p) \\times (1-p)\\times (1-p) \\cdots \\times (1-p) = (1-p)^{I}\n",
    "$$\n",
    "This is typically called the **escape probability**. \n",
    "\n",
    "If $(1-p)^{I}$ is the probability that no infector successfully infects this susceptible then the probability that at least one individual infects this susceptible is \n",
    "\n",
    "$$\n",
    " p(\\text{infection}) = 1 - \\left[(1-p)^{I}\\right]\n",
    "$$"
   ]
  },
  {
   "cell_type": "markdown",
   "id": "331e4310-0cb2-49d1-be6d-857aa7665fbf",
   "metadata": {},
   "source": [
    "## Initial conditions\n",
    "\n",
    "The above assumptions and conditions assume that the $N$ individuals who can exist in one of three disease states may move from one disease state to another *over time*.\n",
    "Let us be explicit, and define the number of individuals in each disease state at time $0$, and define how the number of individuals in each of the three disease states is expected to change over time. \n",
    "\n",
    "The **initial conditions** assigns a number of individuals to each disease state at time $0$, and is denoted \n",
    "\\begin{align}\n",
    "i_{0} &= i^{0}\\\\ \n",
    "s_{0} &= s^{0}\\\\\n",
    "r_{0} &= r^{0}\n",
    "\\end{align}\n",
    "where lowercase letters denote an observed or realized number of individuals in each disease state at time $0$ (the subscript) and lowercase letters with a superscript denote values between $0$ and $N$. \n",
    "For this model, the sum of the number of individuals in each disease state must equal $N$. "
   ]
  },
  {
   "cell_type": "markdown",
   "id": "3da83b73-8b72-4eae-a617-defe3fbbd48b",
   "metadata": {},
   "source": [
    "## Evolution\n",
    "\n",
    "Now that we have specified, at time $0$, the number of individuals who belong to the susceptible disease state ($s_{0}$), number of individuals who belong to the infected disease state ($i_{0}$), and number of individuals who belong to the removed disease state ($r_{0}$), we must decide the number of individuals at **the next time step**.\n",
    "\n",
    "At time $t$, suppose that there exists $S_{t}$ susceptible individuals. \n",
    "A susceptible individual moves to the infected state with probability $1 - (1-p)^{I_{t}}$ (see above section on escape). \n",
    "Further, we assume that for each susceptible the probability of moving to the infected state is independent. \n",
    "If we define \"success\" as $1 - (1-p)^{I_{t}}$ and the number of trials as $S_{t}$ then the **potential number of infected individuals at time $t+1$ or $I_{t+1}$** has a Binomial distribution, \n",
    "\n",
    "\\begin{align}\n",
    "I_{t+1} &\\sim \\text{Bin}\\left(S_{t}, \\left[1 - (1-p)^{i_{t}}\\right] \\right).\n",
    "\\end{align}\n",
    "\n",
    "Let the observed number of infected individuals at time $t+1$ equal $i_{t+1}$.\n",
    "Then the number of susceptibles at the next time step is then equal to the number of susceptibles at time $t$ minus the number of susceptibles who became infected. \n",
    "\n",
    "\\begin{align}\n",
    "s_{t+1} &= s_{t} - i_{t+1} \\\\ \n",
    "\\end{align}\n",
    "\n",
    "Finally, we assume that at the end of each time unit all infected individuals at time $t$ move to the \"removed\" category. So then, \n",
    "\\begin{align}\n",
    "r_{t+1} &= r_{t}+ i_{t}\n",
    "\\end{align}"
   ]
  },
  {
   "cell_type": "code",
   "execution_count": 3,
   "id": "27eab948-b4d0-4ba0-83d5-9a5f9c65a040",
   "metadata": {},
   "outputs": [
    {
     "data": {
      "application/vnd.jupyter.widget-view+json": {
       "model_id": "b8b0ce4a91b64cd8b6b133fc82a134ab",
       "version_major": 2,
       "version_minor": 0
      },
      "text/plain": [
       "interactive(children=(IntSlider(value=50, description='sims', min=10, step=10), IntSlider(value=1, description…"
      ]
     },
     "metadata": {},
     "output_type": "display_data"
    },
    {
     "data": {
      "text/plain": [
       "<function __main__.Reed_Frost_Dynamical_system(sims=10, T=15, N=1000, i0=1, p=0.02, show=True)>"
      ]
     },
     "execution_count": 3,
     "metadata": {},
     "output_type": "execute_result"
    }
   ],
   "source": [
    "import numpy as np\n",
    "import matplotlib.pyplot as plt \n",
    "from ipywidgets import interact, interactive, fixed, interact_manual\n",
    "import ipywidgets as widgets\n",
    "from ipywidgets.embed import embed_minimal_html\n",
    "\n",
    "def Reed_Frost_Dynamical_system(sims=10, T=15, N=1000, i0=1, p=0.02,show=True):\n",
    "    def evolve(T,N,i0,p):\n",
    "        import numpy as np \n",
    "        import matplotlib.pyplot as plt\n",
    "\n",
    "        infectors    = [i0]\n",
    "        removed      = [0]\n",
    "        susceptibles = [N-i0]\n",
    "        for t in range(T):\n",
    "            i_tp1 = np.random.binomial(n=susceptibles[-1], p=1-(1-p)**( infectors[-1] ) , size=1  ) [0]\n",
    "            s_tp1 = susceptibles[-1] - i_tp1\n",
    "            r_tp1 = removed[-1] + infectors[-1]\n",
    "\n",
    "            infectors.append(i_tp1)\n",
    "            susceptibles.append(s_tp1)\n",
    "            removed.append(r_tp1)\n",
    "        infectors = np.array(infectors)\n",
    "\n",
    "        return infectors\n",
    "\n",
    "    fig,ax = plt.subplots()\n",
    "    for _ in range(sims):\n",
    "        infectors = evolve(T,N,i0,p)\n",
    "        ax.plot(infectors)\n",
    "    ax.set_ylim(0,75)\n",
    "    ax.set_xlabel(\"Time units (t)\",fontsize=10)\n",
    "    ax.set_ylabel(\"Number of infectors (It)\",fontsize=10)\n",
    "    if show:\n",
    "        plt.show()\n",
    "    return ax\n",
    "        \n",
    "\n",
    "interact(Reed_Frost_Dynamical_system\n",
    "         ,T=fixed(15)\n",
    "         ,N=fixed(100)\n",
    "         ,r0=fixed(0)\n",
    "         ,sims=widgets.IntSlider(min=10, max=100, step=10, value=50) \n",
    "         ,i0=widgets.IntSlider(min=0, max=20, step=1, value=1) \n",
    "         ,p=(0,0.1,0.00125)\n",
    "        ,show=True)"
   ]
  },
  {
   "cell_type": "markdown",
   "id": "1922680e-d5e5-48b0-abe5-f8e77f2b7187",
   "metadata": {},
   "source": [
    "## The model \n",
    "We can think of the Reed-frost process as a model. \n",
    "Given parameters: number of time units to simulate the process, $T$, and probability that an infector passes the pathogen to a susceptible, $p$, the model produces a $3 \\times T$ matrix of values.\n",
    "The first row is a sequence of susceptible, second row infectors, and third row removed individuals. \n",
    "\n",
    "Further, if we observed data on the number of susceptible, infected, and removed individuals over time then we could assign a probability to these observations. \n",
    "\n",
    "Assume we know $(s_{0},i_{0})$.\n",
    "Then the Reed-Frost model assumes that the number of infectors at the next time point is a Binomial distributed random variable \n",
    "\n",
    "\\begin{align}\n",
    "    I_{1} | s_{0}, i_{0}, p &\\sim \\text{Bin}(s_{0}, 1-(1-p)^{i0}) \\\\ \n",
    "    supp(I_{1}) &= [0, s_{0} ]\n",
    "\\end{align}\n",
    "\n",
    "If we observed that the number of infectors was $i_{1}$ then we can assign a probability to this observation\n",
    "\n",
    "\\begin{align}\n",
    "    P( I_{1} = i_{1}) = \\binom{s_{0}}{i_{1}} \\left[1-(1-p)^{i0}\\right]^{i_{1}} \\left[(1-p)^{i0}\\right]^{s_{0}-i_{1}}\n",
    "\\end{align}\n",
    "\n",
    "The probability assigned to s,i,r at time $t+1$ only depends on the number of susceptbiles, infectors, and removed at time $t$. \n",
    "This means that we can compute the probability of observing s,i,r over time as \n",
    "\n",
    "\\begin{align}\n",
    "    p( [S_{0},I_{0},R_{0}] , [S_{1},I_{1},R_{1}], [S_{2},I_{2},R_{2}] ) & = p([S_{2},I_{2},R_{2}] \\; | \\; [S_{0},I_{0},R_{0}] , [S_{1},I_{1},R_{1}]) \\times p([S_{0},I_{0},R_{0}] , [S_{1},I_{1},R_{1}]) \\\\ \n",
    "    & = p([S_{2},I_{2},R_{2}] \\; | \\; [S_{0},I_{0},R_{0}] , [S_{1},I_{1},R_{1}]) \\times p([S_{1},I_{1},R_{1}] \\; | \\; [S_{0},I_{0},R_{0}]) \\times  p([S_{0},I_{0},R_{0}]) \\\\ \n",
    "    & = p([S_{2},I_{2},R_{2}] \\; | \\; [S_{1},I_{1},R_{1}]) \\times p([S_{1},I_{1},R_{1}] \\; | \\; [S_{0},I_{0},R_{0}])  \\times p([S_{0},I_{0},R_{0}]) \\\\ \n",
    "    &= \\binom{s_{1}}{i_{2}} \\left[1-(1-p)^{i1}\\right]^{i_{2}} \\left[(1-p)^{i1}\\right]^{s_{1}-i_{2}} \\times \\binom{s_{0}}{i_{1}} \\left[1-(1-p)^{i0}\\right]^{i_{1}} \\left[(1-p)^{i0}\\right]^{s_{0}-i_{1}} \\times 1\n",
    "\\end{align}"
   ]
  },
  {
   "cell_type": "code",
   "execution_count": 168,
   "id": "ae861b15-ba68-4e57-a092-a2ae1536c6ec",
   "metadata": {},
   "outputs": [],
   "source": [
    "import scipy \n",
    "\n",
    "N = 100 \n",
    "p = np.random.beta(1,9, size=N)\n",
    "\n",
    "def Reed_Frost_Dynamical_system(sims=10, T=15, N=1000, i0=1, p=0.02):\n",
    "    import numpy as np \n",
    "    import matplotlib.pyplot as plt\n",
    "\n",
    "    infectors    = [i0]\n",
    "    removed      = [0]\n",
    "    susceptibles = [N-i0]\n",
    "    for t in range(T):\n",
    "        i_tp1 = np.random.binomial(n=susceptibles[-1], p=1-(1-p)**( infectors[-1] ) , size=1  ) [0]\n",
    "        s_tp1 = susceptibles[-1] - i_tp1\n",
    "        r_tp1 = removed[-1] + infectors[-1]\n",
    "\n",
    "        infectors.append(i_tp1)\n",
    "        susceptibles.append(s_tp1)\n",
    "        removed.append(r_tp1)\n",
    "    infectors = np.array(infectors)\n",
    "    return susceptibles,infectors,removed\n",
    "\n",
    "#--DATA (assumed to be observed)\n",
    "s,i,r = Reed_Frost_Dynamical_system(sims=10, T=15, N=1000, i0=1, p=0.02)"
   ]
  },
  {
   "cell_type": "code",
   "execution_count": 169,
   "id": "e98f2c89-20ed-4bc9-b260-010169807282",
   "metadata": {},
   "outputs": [
    {
     "data": {
      "text/plain": [
       "np.float64(0.01905410821643287)"
      ]
     },
     "execution_count": 169,
     "metadata": {},
     "output_type": "execute_result"
    }
   ],
   "source": [
    "p_grid = np.linspace(0.001, 0.1, 500)  # restrict to [0.001,0.1] if you know p is small\n",
    "log_likelihoods = []\n",
    "\n",
    "for p in p_grid:\n",
    "    log_like = np.sum(scipy.stats.binom(n=s[:-1], p=1 - (1-p)**i[:-1]).logpmf(i[1:]))\n",
    "    log_likelihoods.append(log_like)\n",
    "\n",
    "p_max = p_grid[np.argmax(log_likelihoods)]\n",
    "log_likelihood_max = np.max(log_likelihoods)\n",
    "\n",
    "p_max"
   ]
  },
  {
   "cell_type": "code",
   "execution_count": 170,
   "id": "fdf2fd79-6f1f-42c3-9762-8d7c896a2bda",
   "metadata": {},
   "outputs": [],
   "source": [
    "p_samples = []\n",
    "for _ in range(5000):\n",
    "    p=-1\n",
    "    while p<0:\n",
    "        p = np.random.normal(p_max,0.1)\n",
    "    \n",
    "    u = np.random.uniform()\n",
    "    \n",
    "    likelihood = np.sum(scipy.stats.binom(n=s[:-1],p=1-(1-p)**i[:-1] ).logpmf(i[1:]))\n",
    "    prior      = scipy.stats.beta(1,1).logpdf(p)\n",
    "    \n",
    "    f = lambda p: -1*np.sum(scipy.stats.binom(n=s[:-1],p=1-(1-p)**i[:-1] ).logpmf(i[1:]))\n",
    "    \n",
    "    from scipy.optimize import minimize\n",
    "    \n",
    "    if np.log(u) < (likelihood + prior) - log_likelihood_max:\n",
    "        p_samples.append(p)"
   ]
  },
  {
   "cell_type": "code",
   "execution_count": 171,
   "id": "e19f9944-a453-4cef-b247-893ddac1281b",
   "metadata": {},
   "outputs": [
    {
     "data": {
      "text/plain": [
       "(array([ 3.,  1.,  5.,  7., 15., 10., 14., 11.,  6.,  2.]),\n",
       " array([0.01718068, 0.01753852, 0.01789635, 0.01825419, 0.01861202,\n",
       "        0.01896985, 0.01932769, 0.01968552, 0.02004336, 0.02040119,\n",
       "        0.02075903]),\n",
       " <BarContainer object of 10 artists>)"
      ]
     },
     "execution_count": 171,
     "metadata": {},
     "output_type": "execute_result"
    },
    {
     "data": {
      "image/png": "[encoded data removed]",
      "text/plain": [
       "<Figure size 640x480 with 1 Axes>"
      ]
     },
     "metadata": {},
     "output_type": "display_data"
    }
   ],
   "source": [
    "plt.hist(p_samples)"
   ]
  },
  {
   "cell_type": "code",
   "execution_count": 156,
   "id": "6590d014-2f84-44c9-9fcc-d181bd336521",
   "metadata": {},
   "outputs": [
    {
     "data": {
      "text/plain": [
       "np.float64(0.02004609218436874)"
      ]
     },
     "execution_count": 156,
     "metadata": {},
     "output_type": "execute_result"
    }
   ],
   "source": []
  }
 ],
 "metadata": {
  "kernelspec": {
   "display_name": "Python 3 (ipykernel)",
   "language": "python",
   "name": "python3"
  },
  "language_info": {
   "codemirror_mode": {
    "name": "ipython",
    "version": 3
   },
   "file_extension": ".py",
   "mimetype": "text/x-python",
   "name": "python",
   "nbconvert_exporter": "python",
   "pygments_lexer": "ipython3",
   "version": "3.12.3"
  }
 },
 "nbformat": 4,
 "nbformat_minor": 5
}
