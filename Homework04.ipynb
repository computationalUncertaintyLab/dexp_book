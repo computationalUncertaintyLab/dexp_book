{
 "cells": [
  {
   "cell_type": "markdown",
   "id": "af8684a1-c0f0-4b84-a3d9-58bd9f975296",
   "metadata": {},
   "source": [
    "# Homework 04\n",
    "\n",
    "The goal for this homework will be to learn more about how you can use ```groupby``` and how merging can be used to improve your ability to generate hypotheses."
   ]
  }
 ],
 "metadata": {
  "kernelspec": {
   "display_name": "Python 3 (ipykernel)",
   "language": "python",
   "name": "python3"
  },
  "language_info": {
   "codemirror_mode": {
    "name": "ipython",
    "version": 3
   },
   "file_extension": ".py",
   "mimetype": "text/x-python",
   "name": "python",
   "nbconvert_exporter": "python",
   "pygments_lexer": "ipython3",
   "version": "3.10.16"
  }
 },
 "nbformat": 4,
 "nbformat_minor": 5
}
