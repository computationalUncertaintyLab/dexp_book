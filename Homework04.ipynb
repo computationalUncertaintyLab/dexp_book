{
 "cells": [
  {
   "cell_type": "markdown",
   "id": "af8684a1-c0f0-4b84-a3d9-58bd9f975296",
   "metadata": {},
   "source": [
    "# Homework 04\n",
    "\n",
    "The goal for this homework will be to learn more about how you can use ```groupby``` and how merging can be used to improve your ability to generate hypotheses."
   ]
  },
  {
   "cell_type": "markdown",
   "id": "5bb9fa9e-9156-4d62-ac6a-943b0db1a7e3",
   "metadata": {},
   "source": [
    "We will use the FluSurv Net dataset provided by the WHO. \n",
    "This dataset is linked on coursesite and called ```FluNetData[...]```. \n",
    "This dataset has recorded, for each country, the number of lab-confirmed cases of influenza from sentinal sites (Sent), non-sentinal sites (Non-Sent), and sites that have not yet been defined as Sent or Non-Sent.\n",
    "The WHO has a dashboard for this data [here](https://worldhealthorg.shinyapps.io/flunetchart/)\n",
    "\n",
    "A sentinel surveillance site (Sent site) is a single or small number of health facilities that are responsible for collecting data on cases enrolled with the case definition. \n",
    "In our case, these facilities are recording those who meet the [case definition](https://ndc.services.cdc.gov/case-definitions/novel-influenza-a-virus-infections/) for influenza. \n",
    "\n",
    "We will also use a dataset that has recorded countries and whether or not that country belongs to the Northern or Southern Hemisphere."
   ]
  },
  {
   "cell_type": "markdown",
   "id": "ab641ed3-1cb4-4f74-84ce-7b97f22a30ce",
   "metadata": {},
   "source": [
    "## Problem one\n",
    "\n",
    "1. Read in the FluNet dataset\n",
    "2. Read in the \"Hemisphere\" dataset\n",
    "3. Merge together the FluNet and Hemisphere dataset so that you have a combined dataset. This combined dataset should include the column \"Hemisphere\" as well as columns for country, flu tests, and flu positives. Lets call this combined dataset ```d```."
   ]
  },
  {
   "cell_type": "markdown",
   "id": "2e70f0fa-62d3-43d9-878e-b6be79f98add",
   "metadata": {},
   "source": [
    "## Problem two\n",
    "4. Split this dataset into two: a dataset called ```us``` that includes only observations for the \"United States of America\", and a second dataset called ```aus``` that includes only observations for \"Australia\"\n",
    "5. Create a new dataset called ```either_one``` that removes those countries that are in both the north and south hemispheres. These countries are denoted with the string \"Both\" in the \"Hemispere\" column."
   ]
  },
  {
   "cell_type": "markdown",
   "id": "8ccd5150-27d5-4c67-afee-355a942b0c07",
   "metadata": {},
   "source": [
    "## Problem three\n",
    "6. Create a new column called ```pct_positive``` that equals the number of positive influenza cases (the column \"Influenza positive\") divided by the number of test (called \"Speciman tested\"). "
   ]
  },
  {
   "cell_type": "markdown",
   "id": "f5b36a52-63c6-44c6-95d8-78690e6733b9",
   "metadata": {},
   "source": [
    "## Problem four \n",
    "7. Use seaborn lineplot to plot the percent positive influenza by \"Week start date (ISO 8601 calendar)\" for the ```either_one```. Use the ```hue``` keywoord to stratify this plot by Northern and Southern Hemispehre.\n",
    "8. What do you observe? What might this plot suggest about the interplat between North and South Hemispehric influenza? "
   ]
  },
  {
   "cell_type": "markdown",
   "id": "9adf38a8-8ef5-49d4-bb4b-7ca96e63664a",
   "metadata": {},
   "source": [
    "## Problem five \n",
    "9.  Use the split-apply-combine paradigm (ie Pandas Groupby) to build a dataset ```aus_total```.\n",
    "    ```aus_total``` will sum over Sent, Non-Sent, and Undefined sites: the number of influenza cases and the number of specimens collected  for Australia.\n",
    "10. Use the split-apply-combine paradigm (ie Pandas Groupby) to build a dataset ```usa_total```.\n",
    "    ```usa_total``` will sum over Sent, Non-Sent, and Undefined sites: the number of influenza cases and the number of specimens collected for the USA.\n",
    "11. For datasets in (9) and (10) compute the percent positive as number of influenza cases divded by number of specimens collected. \n",
    "    \n",
    "11. Plot the percent positive influenza for Australia (```aus_total```).\n",
    "12. Plot the Plot the percent positive influenza for the USA (```usa_total```) on the same plot.\n",
    "13. Make sure that AUS and USA lines are different colors and that the graph is properly annotated."
   ]
  },
  {
   "cell_type": "markdown",
   "id": "4d432805-ced1-4619-bebe-41083fecff1c",
   "metadata": {},
   "source": [
    "## Problem six\n",
    "14. Read the documentation about rolling windows here = [Pandas Rolling Window Docs](https://pandas.pydata.org/docs/reference/api/pandas.DataFrame.rolling.html)\n",
    "15. For the ```aus_total``` dataset create a new column that is a rolling mean of the percent positive influenza with window size 10 time units.\n",
    "16. For the ```us_total``` dataset create a new column that is a rolling mean of the percent positive influenza with window size 10 time units.\n",
    "17. Plot the rolling means for Australia and for the US."
   ]
  }
 ],
 "metadata": {
  "kernelspec": {
   "display_name": "Python 3 (ipykernel)",
   "language": "python",
   "name": "python3"
  },
  "language_info": {
   "codemirror_mode": {
    "name": "ipython",
    "version": 3
   },
   "file_extension": ".py",
   "mimetype": "text/x-python",
   "name": "python",
   "nbconvert_exporter": "python",
   "pygments_lexer": "ipython3",
   "version": "3.13.1"
  }
 },
 "nbformat": 4,
 "nbformat_minor": 5
}
