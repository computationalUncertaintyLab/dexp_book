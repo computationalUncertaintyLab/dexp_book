{
 "cells": [
  {
   "cell_type": "markdown",
   "id": "5633078a-80eb-4810-a84a-8e0e600e3e1e",
   "metadata": {
    "editable": true,
    "slideshow": {
     "slide_type": ""
    },
    "tags": []
   },
   "source": [
    "# Chapter 01: Exploratory Data Analysis Part I"
   ]
  },
  {
   "cell_type": "markdown",
   "id": "ac725b32-586b-4f69-a791-9883f144b234",
   "metadata": {},
   "source": [
    "## Exploratory vs Confirmatory data analysis \n",
    "Exploratory data analysis (**EDA**) is the study of: the potential for data to answer hypotheses and how to generate novel hypotheses by the study of relationships between collected information.\n",
    "This is in contrast to confirmatory data analysis. \n",
    "Confirmatory data analysis techniques are hypothesis tests, confidence intervals, statistical estimators---methods by which we seek to understand all possible experiments by observing a smaller number of experiments. \n",
    "\n",
    "Both analyses are important. We will start with EDA. \n",
    "\n",
    "## Definition of an Experiment \n",
    "\n",
    "An experiment is any process that generates an observation. \n",
    "An observation can be measured and this measurement, or data, can be classified into one of several types.\n",
    "\n",
    "## Data Types\n",
    "Observations can be classified into: names, grades, ranks, fractions and percentages, counts, amounts, and balances.  \n",
    "This classification system is called the *Mosteller-Tukey* classification system.\n",
    "There exist other systems and *Stevens Typology*---classifying data as nominal, ordinal, interval, and ratio---is another popular choice. \n",
    "\n",
    "## Amounts and Counts:\n",
    "Both amounts and counts are non-negative values without a necessary upper bound. \n",
    "Amounts are real-valued and counts are integers.\n",
    "\n",
    "## Balances:\n",
    "Balances are observations that can be positive or negative real values. \n",
    "\n",
    "## Counted Fractions and Percentages:\n",
    "Counted fractions are values $x/y$ where $x$ and $y$ are integers and $x \\leq y$.\n",
    "Percentages are any real value between 0 and 100.\n",
    "Importantly, both counted fractions and percentages are bounded. \n",
    "Fractions are bounded between 0 and 1, and percentages between 0 and 100.\n",
    "\n",
    "## Grades, Ranks, and Names\n",
    "In the *Mosteller-Tukey* classification system there also exist: Names, Grades, and Ranks. \n",
    "We are less likely to use these data classifications in this course, but they should still be briefly discussed. \n",
    "\n",
    "Data that can be 'Graded' can be assigned one of set of levels.\n",
    "These levels are sorted such that when you compare two graded observations you can say that one observation is 'higher' or 'larger' than the other. \n",
    "A set of $N$ observations can be ranked if each observation can be assigned an integer from 1 to N such that an observation with rank $x$ is larger than an observation with rank $y$ is $x>y$. \n",
    "Named data cannot be compared to one another.\n",
    "\n",
    "## Descriptive Statistics \n",
    "\n",
    "The goal of descriptive statistics are to characterize a set of observations, or pairs of observations with a smaller set of numbers. \n",
    "Though there is a loss of information by describing a set of $N$ observations by a smaller $n<N$ set of numbers, \n",
    "descriptive statistics can help us quickly understand our the data that we have collected and what we can do with this data. Common descriptive statistics are the mean, median, standard deviation etc. \n",
    "\n",
    "### Measures of Central Tendancy \n",
    "\n",
    "A measure of central tendency aims to use a single value to describe where observations are most probable.\n",
    "For <u>counted data</u>, a natural measure of central tendency is the **mode**.\n",
    "Given a dataset of $n$ observations, $\\mathcal{D} = (d_{1}, d_{2}, \\cdots, c_{n})$ the **mode** is the most frequently occurring value. \n",
    "\n",
    "---\n",
    "\n",
    "*Example: Crowd accidents**\n",
    "A dataset of crowd accidents---defined as situations where mass gatherings of people lead to deaths or injuries---was collected by authors and published here = [paper](https://www.sciencedirect.com/science/article/pii/S0925753523001169?via%3Dihub).\n",
    "The dataset is stored such that each row is an observation of a crowd accident. \n",
    "The observation has several pieces of information. \n",
    "\n",
    "We will focus on the counted data \"Number of Fatalities\".\n",
    "This is the recorded number of deaths that occurred during the crowd accident."
   ]
  },
  {
   "cell_type": "code",
   "execution_count": 78,
   "id": "38ad8b0e-6451-4816-ab89-967f8808d9ba",
   "metadata": {},
   "outputs": [
    {
     "name": "stdout",
     "output_type": "stream",
     "text": [
      "The most frequently occuring number of fatalities for which a crowd accident has occured is below \n",
      "ModeResult(mode=0, count=24)\n"
     ]
    }
   ],
   "source": [
    "#--Import pandas. This will allow us to download the dataset from the internet. \n",
    "#--More on pandas in the following lectures.\n",
    "import pandas as pd \n",
    "d = pd.read_csv(\"https://zenodo.org/records/7523480/files/accident_data_numeric.csv?download=1\")\n",
    "\n",
    "#--the dataset is called d. \n",
    "#--The number of fatalities for each crowd incident is stored in a list called d[\"Fatalities\"]\n",
    "\n",
    "#--Scipy has a function called mode that will compute the mode for us. \n",
    "from scipy.stats import mode\n",
    "fatal_mode = mode(d[\"Fatalities\"])\n",
    "\n",
    "#--Print the output\n",
    "print(\"The most frequently occuring number of fatalities for which a crowd accident has occured is below \")\n",
    "print(fatal_mode)"
   ]
  },
  {
   "cell_type": "markdown",
   "id": "7fbc3257-4536-44b9-ab6c-8e6f5ca6b60b",
   "metadata": {},
   "source": [
    "The most frequent number of fatalities during a crowd accident is zero, and this number of fatalities was observed 24 times. \n",
    "\n",
    "---"
   ]
  },
  {
   "cell_type": "markdown",
   "id": "5eb6860c-a014-4c0f-b6e7-9f0d1278f533",
   "metadata": {},
   "source": [
    "For <u>Amount and Balance data</u>, there are several additional measures of central tendency that may be useful.\n",
    "Given a dataset of $n$ observations, $\\mathcal{D} = (d_{1}, d_{2}, \\cdots, c_{n})$, the **mean** is a value such that the majority of observations are \"close\" to this value. \n",
    "\n",
    "The **mean** is computed as \n",
    "\n",
    "\\begin{align}\n",
    "    \\bar{x} = N^{-1}\\sum_{i=1}^{n} d_{i}\n",
    "\\end{align}\n",
    "\n",
    "There are two intuitive explanations of the mean.\n",
    "The first explanation suggests that the mean takes into account the frequency of each observation in the dataset. \n",
    "\n",
    "Consider the following dataset:\n",
    "\\begin{align}\n",
    "    \\mathcal{D} = (1,2,3,5,3,2,1,7,4,1,7,7,1,2)\n",
    "\\end{align}\n",
    "\n",
    "using the above formula for the mean, we would compute\n",
    "\n",
    "\\begin{align}\n",
    "    \\bar{x}  = \\frac{1+2+3+5+3+2+1+7+4+1+7+7+1+2}{14}\n",
    "\\end{align}\n",
    "\n",
    "however addition is commutative. We would arrive at the same mean if we moved all the same values next to another.\n",
    "\n",
    "\\begin{align}\n",
    "    \\bar{x} &= \\frac{1+1+1+1 + 2+2+2 + 3+3 + 4 + 5 + 7 + 7 + 7}{14}\n",
    "\\end{align}\n",
    "\n",
    "We can rewrite the above sum as the frequency that each number appears times its value or \n",
    "\\begin{align}\n",
    "    \\bar{x}  &= \\frac{ 4 \\cdot 1 + 3 \\cdot 2 + 2 \\cdot 3 + 1 \\cdot 4 + 1 \\cdot 5 + 3 \\cdot 7 }{14}\n",
    "\\end{align}\n",
    "and finally we can distribute the denominator\n",
    "\\begin{align}\n",
    "          \\bar{x}   &= \\frac{4}{14} 1 + \\frac{3}{14} 2 + \\frac{2}{14} 3 + \\frac{1}{14} 4 + \\frac{1}{14} 5 + \\frac{3}{14} 7 \\\\\n",
    "\\end{align}\n",
    "\n",
    "We see that the mean weights each observation by the proportion of times that it appears in the dataset. \n",
    "\n",
    "The second intuitive explanation is that the mean is the \"middle\" value. \n",
    "Consider the dataset containing two observations, \n",
    "\\begin{align}\n",
    "    \\mathcal{D} = (1,7),\n",
    "\\end{align}\n",
    "then a natural \"middle\" value would be half way between 1 and 7 or $ 1 + (7-1)/2 = 4$.\n",
    "\n",
    "---\n",
    "\n",
    "*Example: Crowd accidents continued*\n",
    "Rather than consider the number of fatalities counted data, we could consider this an amount. \n",
    "In that case, we could compute the average number of fatalities over all crowd accidents that occured from 1975-1980, 1981-1985, in five year increments until 2015-2019.\n",
    "The authors [in this publication](https://www.sciencedirect.com/science/article/pii/S0925753523001169?via%3Dihub)\n",
    "ran this exploratory data analysis. "
   ]
  },
  {
   "cell_type": "code",
   "execution_count": 79,
   "id": "a4a99125-3f95-4523-9968-868ea68e83db",
   "metadata": {
    "editable": true,
    "slideshow": {
     "slide_type": ""
    },
    "tags": []
   },
   "outputs": [
    {
     "name": "stdout",
     "output_type": "stream",
     "text": [
      "The average number of fatalties among all crowd accidents is below\n",
      "49.07829181494662\n"
     ]
    }
   ],
   "source": [
    "import pandas as pd \n",
    "d = pd.read_csv(\"https://zenodo.org/records/7523480/files/accident_data_numeric.csv?download=1\")\n",
    "\n",
    "import numpy as np #--The numpy package (often abbreviated np) has a function to compute the mean. \n",
    "mean_fatalities = np.mean(d[\"Fatalities\"])                     #--this is how to compute the mean\n",
    "\n",
    "print(\"The average number of fatalties among all crowd accidents is below\")\n",
    "print(mean_fatalities)"
   ]
  },
  {
   "cell_type": "markdown",
   "id": "a3387ec5-0b7d-49c0-a6e9-c9e36143f075",
   "metadata": {},
   "source": [
    "Note an important point about the mean, the mean does not need to be one of the values in the dataset. \n",
    "In this case, we see that the mean is the decimal value 49.08 (not a counted value). \n",
    "\n",
    "---"
   ]
  },
  {
   "cell_type": "markdown",
   "id": "0a024a5d-d73b-4cfa-83ea-3b687d179ac0",
   "metadata": {},
   "source": [
    "Another useful measure of central tendency for amount and balance data is the **median**. \n",
    "Given a dataset $\\mathcal{D}$, the median is the value $v$ such that half of the observations are smaller than $v$ and half of the values are larger than $v$.\n",
    "\n",
    "---\n",
    "\n",
    "*Example: Computing and comparing the median to the mean*\n",
    "Consider the crowd accident dataset $\\mathcal{D}$ above. \n",
    "We can compute the median number of fatalities by sorting the values from lowest to highest, finding the middle most value, and extracting that value.\n",
    "It is often easier to use a function in numpy like this. "
   ]
  },
  {
   "cell_type": "code",
   "execution_count": 80,
   "id": "85bdf7b6-4651-4662-9bc9-afc0747e1168",
   "metadata": {},
   "outputs": [
    {
     "name": "stdout",
     "output_type": "stream",
     "text": [
      "The median number of fatalties among all crowd accidents is below\n",
      "10.0\n"
     ]
    }
   ],
   "source": [
    "import pandas as pd \n",
    "d = pd.read_csv(\"https://zenodo.org/records/7523480/files/accident_data_numeric.csv?download=1\")\n",
    "\n",
    "import numpy as np #--The numpy package (often abbreviated np) has a function to compute the mean. \n",
    "median_fatalities = np.median(d[\"Fatalities\"])                     #--this is how to compute the mean\n",
    "\n",
    "print(\"The median number of fatalties among all crowd accidents is below\")\n",
    "print(median_fatalities)"
   ]
  },
  {
   "cell_type": "markdown",
   "id": "d51c5f8c-53d1-47ae-af5c-2ac89fc17a63",
   "metadata": {},
   "source": [
    "The median and the mean are different, and most measures of central tendency will not agree with one another. \n",
    "To note, the mean will often move higher or lower than the median when there are extremely large or extremely small (or large negative) values. This characteristic of the mean is called \"sensitivity to outliers\". \n",
    "\n",
    "---"
   ]
  },
  {
   "cell_type": "markdown",
   "id": "174993a4-af11-49f0-8a06-d307e34b0d3a",
   "metadata": {},
   "source": [
    "\n",
    "\n",
    "Before we continue, we should describe the **weighted average** and how the standard deviation (as well as the mean from above) is a type of weighted average.\n",
    "Given a dataset $\\mathcal{D}$, the weighted average is computed as \n",
    "\n",
    "\\begin{align}\n",
    "    \\omega(\\mathcal{D}) &= \\frac{\\sum_{i=1}^{n} w_{i}d_{i}}{\\sum_{j=1}^{n}w_{j}} \n",
    "                        = \\sum_{i=1}^{n} \\left(\\frac{w_{i}}{\\sum_{j=1}^{n}w_{j}}\\right) d_{i} \n",
    "\\end{align}\n",
    "For the mean above, the weights $w_{1},w_{2},\\cdots$, are all equal to one. The weighted average allows the reader to emphasize some data points more than others. This may be the case if we are more certain about measured observations than others."
   ]
  },
  {
   "cell_type": "markdown",
   "id": "7b7a2558-829c-42d3-9846-b9a38c59f0a3",
   "metadata": {
    "editable": true,
    "slideshow": {
     "slide_type": ""
    },
    "tags": []
   },
   "source": [
    "### Measures of Dispersion\n",
    "\n",
    "Measures of dispersion are meant to capture how observations in a dataset are either close, or far, from one another. A set of observations that are spaced far apart from another is said to be highly dispersed. \n",
    "\n",
    "A common measure of dispersion for <u>counted data</u> is the **range** accompanied by the **min and max** values. \n",
    "Given a dataset, $\\mathcal{D} = (d_{1},d_{2},\\cdots,d_{n})$, the **max** is the largest observation, the **min** is the smallest observation, and the **range** equals the max minus the min. \n",
    "Personally, the author thinks that the min and max should always be accompanied by the range, but this is under debate. \n",
    "\n",
    "*Example:*\n",
    "\n",
    "A common measure of dispersion for <u>amount and balance data</u> is the **standard deviation**.\n",
    "The **variance** is the **standard deviation** squared and is computed as \n",
    "\n",
    "\\begin{align}\n",
    "    v(\\mathcal{D}) &= (N-1)^{-1} \\sum_{i=1}^{N} \\left( d_{i} - \\bar{d} \\right)^{2} \\approx N^{-1} \\sum_{i=1}^{N} \\left( d_{i} - \\bar{d} \\right)^{2} \\\\ \n",
    "\\end{align}\n",
    "\n",
    "The variance could be understood by first transforming each data point and then computing the mean. \n",
    "In other words we can apply the function $f(d) = \\left( d - \\bar{d} \\right)^{2}$ to each data point $d_{i}$ and compute\n",
    "\n",
    "\\begin{align}\n",
    "    v(\\mathcal{D}) &= (N-1)^{-1} \\sum_{i=1}^{N} f(d_{i}) \\approx  \\frac{\\sum_{i=1}^{N} f(d_{i})}{N}\n",
    "\\end{align}\n",
    "\n",
    "For each data point we measure the distance from the average $d_{i} - \\bar{d}$, but because we are interested in dispersion either smaller or larger than the average we square this quantity. \n",
    "Squaring each $d_{i} - \\bar{d}$ means that the variance will be non-negative.\n",
    "Large values of the variance indicate large dispersion and vice-versa. \n",
    "\n",
    "The variance has a problem. Suppose our experiment collects the length of dogs from nose to tail in the units centimeters (cm). Then the average is in units cm but the variance is in units $\\text{cm}^2$.\n",
    "To keep our summary of dispersion on the same scale, we can take the square root of the variance---this is the standard deviation.\n",
    "\n",
    "\\begin{align}\n",
    "    s(\\mathcal{D}) = \\left[v(\\mathcal{D})\\right]^{1/2} &= \\sqrt{(N-1)^{-1} \\sum_{i=1}^{N} \\left( d_{i} - \\bar{d} \\right)^{2} } \n",
    "\\end{align}\n",
    "\n",
    "Another common measure of dispersion is the **interquartile range**.\n",
    "The interquartile range equals the 75th percentile - the 25th percentile.\n",
    "Given a dataset $\\mathcal{D} = (d_{1},d_{2},\\cdots,d_{n})$, the Xth **percentile** is the data point $d_{i}$ such that X percent of the values are smaller than $d_{i}$ and $100-X$ percent of the data points are larger than $d_{i}$. \n",
    "Like the range, the author feels that the interquartile range should be accompanied by the 25th and 75th percentiles that were used to generate this summary. Not everyone agrees.\n",
    "\n",
    "*Example: Spills of produced water by the Texas oil and gas industry from 2013 to 2022*\n",
    "Records of gas and oil spilles recorded by the Texas Railroad Commission was collected by Peter Aldhous [link](https://github.com/InsideClimateNews/2023-10-tx-produced-water-spills/tree/main). \n",
    "Each observation in the dataset is an incident and includes the number of gallons of oil spilled during the incident. \n",
    "\n",
    "We can download this dataset into Python and compute the variance, standard deviation, and interquartile range using the numpy modeule."
   ]
  },
  {
   "cell_type": "code",
   "execution_count": 81,
   "id": "9165fdd7-3b6a-41c6-ba4c-118deaddd80f",
   "metadata": {
    "editable": true,
    "slideshow": {
     "slide_type": ""
    },
    "tags": []
   },
   "outputs": [
    {
     "name": "stdout",
     "output_type": "stream",
     "text": [
      "The mean and standard deviation of the Gallons of Crude oil spilled are\n",
      "1779.2016927184468\n",
      "7282.019132458342\n",
      "The median and interquartile range (with 25,75th percnetiles) of the Gallons of Crude oil spilled are\n",
      "630.0\n",
      "1188.6\n",
      "281.40000000000003\n",
      "1470.0\n"
     ]
    }
   ],
   "source": [
    "#TL;DR for this part\n",
    "import pandas as pd\n",
    "d = pd.read_csv(\"https://raw.githubusercontent.com/InsideClimateNews/2023-10-tx-produced-water-spills/refs/heads/main/data/central_cleaned.csv\")\n",
    "amount_of_crude_oil = d[\"release_crude_oil_edit\"].astype(float)\n",
    "amount_of_crude_oil = amount_of_crude_oil[~np.isnan(amount_of_crude_oil)] #--Restrict to oil spill recorded\n",
    "amount_of_crude_oil = amount_of_crude_oil[amount_of_crude_oil>0]          #--Restrict to oil spill\n",
    "\n",
    "#--Exploratory Data Analysis piece (This is the important part)\n",
    "import numpy as np\n",
    "#--central tendancy\n",
    "mean_crude_oil   = np.mean(amount_of_crude_oil)\n",
    "median_crude_oil = np.median(amount_of_crude_oil)\n",
    "\n",
    "#--dispersion\n",
    "variance_crude_oil = np.var(amount_of_crude_oil)\n",
    "std_dev_crude_oil  = np.std(amount_of_crude_oil)\n",
    "\n",
    "#--The interquartile range plus percentiles\n",
    "_25th_percentile_crude_oil = np.percentile(amount_of_crude_oil, 25)\n",
    "_75th_percentile_crude_oil = np.percentile(amount_of_crude_oil, 75)\n",
    "IQR = _75th_percentile_crude_oil - _25th_percentile_crude_oil\n",
    "\n",
    "print(\"The mean and standard deviation of the Gallons of Crude oil spilled are\")\n",
    "print(mean_crude_oil)\n",
    "print(std_dev_crude_oil)\n",
    "\n",
    "print(\"The median and interquartile range (with 25,75th percnetiles) of the Gallons of Crude oil spilled are\")\n",
    "print(median_crude_oil)\n",
    "print(IQR)\n",
    "print(_25th_percentile_crude_oil)\n",
    "print(_75th_percentile_crude_oil)"
   ]
  }
 ],
 "metadata": {
  "kernelspec": {
   "display_name": "Python 3 (ipykernel)",
   "language": "python",
   "name": "python3"
  },
  "language_info": {
   "codemirror_mode": {
    "name": "ipython",
    "version": 3
   },
   "file_extension": ".py",
   "mimetype": "text/x-python",
   "name": "python",
   "nbconvert_exporter": "python",
   "pygments_lexer": "ipython3",
   "version": "3.10.16"
  }
 },
 "nbformat": 4,
 "nbformat_minor": 5
}
