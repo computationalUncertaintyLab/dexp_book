{
 "cells": [
  {
   "cell_type": "markdown",
   "id": "192b67c8-e632-47f4-b09c-d63ab6ae0946",
   "metadata": {},
   "source": [
    "# Forward problem: (Inversion sampling)\n",
    "\n",
    "```{contents} Table of Contents\n",
    ":depth: 3\n",
    "```"
   ]
  },
  {
   "cell_type": "markdown",
   "id": "c1974a27-b6ba-4065-9660-c0949c7a3e01",
   "metadata": {},
   "source": [
    "There are many different definitions for what is commonly called \"The forward problem\".\n",
    "We will define the forward problem as the following task:\n",
    "\n",
    "*Given a (1) model and (2) parameter values then produce a feasible set of observations*\n",
    "\n",
    "## Definition of a model \n",
    "\n",
    "What do we mean when we say \"a model\"? \n",
    "A model---in the most abstract terminology---is a collection of probability distributions $\\mathcal{P}$ over a sample space $\\mathcal{G}$ of potential measurements. \n",
    "In other words, we can define a model as the following two objects\n",
    "\n",
    "\\begin{align}\n",
    "    \\mathcal{P} &= \\{ F_{\\theta}  | \\theta \\in \\Theta \\}\\\\ \n",
    "    \\mathcal{G} &= \\{ (x_{1},x_{2}, \\cdots, x_{k}) | x_{k} \\in \\mathbb{R}  \\}\n",
    "\\end{align}\n",
    "\n",
    "where the input for $F_{\\theta}$, the cumulative density function (cdf), is all possible points in the sample space $\\mathcal{G}$.\n",
    "That is, we assume that  $F_{\\theta}$ is a cdf that can input points like $(x_{1},x_{2}, \\cdots, x_{k})$. \n",
    "Note that every point $\\theta \\in \\Theta$ will specify exactly one assignment of probabilities to all points in the sample space.\n",
    "\n",
    "This definition of a model is abstract, but encompasses almost all feasible types of models that we can specify. \n",
    "\n",
    "\n",
    "**Example** \n",
    "\n",
    "Suppose we work for a public health office and are asked to begin modeling the incidence of influenza over during the typical 32-week influenza season.\n",
    "We assume that, for the person requesting this model, it is sufficient to provide a probability density over the potential number of weekly lab-confirmed cases of influenza in the public health office's jurisdiction.\n",
    "The number of cases that we could observe (could measure) in one week starts at 0 (no cases this week) and end at the total number of individuals living in the jurisdiction (we will call this value $N$). \n",
    "\n",
    "Then the sample space is $\\mathcal{G} = \\{ (x_{1},x_{2}, \\cdots, x_{32}) \\;| \\; x_{k} \\in [0,N] \\}$\n",
    "\n",
    "Further, we will assume that the number of cases each week is drawn from a Poisson distribution with parameter $\\lambda$. \n",
    "That is, for week $k$, we assume $x_{k} \\sim \\text{Poisson}(\\lambda_{k})$. \n",
    "If we further assume that the number of cases in week $k$ is statistically independent from cases in week $l$ then the probability of measuring less than $x_{k}$ cases in week $k$ and less than $x_{l}$ cases in week $l$ equals \n",
    "\n",
    "\\begin{align}\n",
    "    F(x_{k},x_{l}) = F(x_{k} | \\lambda_{k}) \\cdot F(x_{l} | \\lambda_{l})\n",
    "\\end{align}\n",
    "\n",
    "where $(\\lambda_{k}, \\lambda_{l}) \\in \\mathbb{R}^{+} \\times \\mathbb{R}^{+}$\n",
    "\n",
    "If we can write down our collection of probabilities for two points then we can write this collection for $32$ points\n",
    "\n",
    "\\begin{align}\n",
    "    \\mathcal{P} = \\left\\{\\prod_{k=1}^{32} F(x_{k} | \\lambda_{k}) \\;|\\;  (\\lambda_{1},\\lambda_{2},\\cdots,\\lambda_{32} ) \\in (\\mathbb{R}^{+})^{32} \\right\\}\\\\\n",
    "\\end{align}\n",
    "\n",
    "We can generate a dataset---a tuple of possible measurements---from the above model if we are given a set of 32 parameter values and a method for drawing values from the Poisson distribution. "
   ]
  },
  {
   "cell_type": "code",
   "execution_count": null,
   "id": "b98b2b18-e440-4f8d-8a28-c723174fca07",
   "metadata": {},
   "outputs": [],
   "source": []
  },
  {
   "cell_type": "code",
   "execution_count": null,
   "id": "ee3eb9bf-123d-4b41-9b2d-18eb94f6b96f",
   "metadata": {},
   "outputs": [],
   "source": []
  },
  {
   "cell_type": "code",
   "execution_count": null,
   "id": "f108466c-7d65-4d22-bd86-84ac17faabb7",
   "metadata": {},
   "outputs": [],
   "source": []
  },
  {
   "cell_type": "code",
   "execution_count": null,
   "id": "8a25ff2d-84ad-4c9e-ba79-b38fd880bc7e",
   "metadata": {},
   "outputs": [],
   "source": []
  }
 ],
 "metadata": {
  "kernelspec": {
   "display_name": "Python 3 (ipykernel)",
   "language": "python",
   "name": "python3"
  },
  "language_info": {
   "codemirror_mode": {
    "name": "ipython",
    "version": 3
   },
   "file_extension": ".py",
   "mimetype": "text/x-python",
   "name": "python",
   "nbconvert_exporter": "python",
   "pygments_lexer": "ipython3",
   "version": "3.13.1"
  }
 },
 "nbformat": 4,
 "nbformat_minor": 5
}
