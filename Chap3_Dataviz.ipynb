{
 "cells": [
  {
   "cell_type": "markdown",
   "id": "d2a3fe29-64a2-4786-b3dd-c84ae710d009",
   "metadata": {
    "editable": true,
    "slideshow": {
     "slide_type": ""
    },
    "tags": []
   },
   "source": [
    "# Chapter 03: Data visualization\n",
    "\n",
    "\n",
    "\n",
    "## Matplotlib \n",
    "\n",
    "### The anatomy of a plot \n",
    "\n",
    "### Histogram - 1d\n",
    "\n",
    "### Histogram - 2d\n",
    "\n",
    "### scatterplot\n",
    "\n",
    "### barplot  \n",
    "\n",
    "### box and whisker plot \n",
    "\n",
    "\n",
    "## \n",
    "\n",
    "## \n",
    "\n",
    "## \n",
    "\n",
    "\n"
   ]
  }
 ],
 "metadata": {
  "kernelspec": {
   "display_name": "Python 3 (ipykernel)",
   "language": "python",
   "name": "python3"
  },
  "language_info": {
   "codemirror_mode": {
    "name": "ipython",
    "version": 3
   },
   "file_extension": ".py",
   "mimetype": "text/x-python",
   "name": "python",
   "nbconvert_exporter": "python",
   "pygments_lexer": "ipython3",
   "version": "3.10.16"
  }
 },
 "nbformat": 4,
 "nbformat_minor": 5
}
