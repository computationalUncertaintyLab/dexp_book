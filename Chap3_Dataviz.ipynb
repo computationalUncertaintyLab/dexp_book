{
 "cells": [
  {
   "cell_type": "markdown",
   "id": "d2a3fe29-64a2-4786-b3dd-c84ae710d009",
   "metadata": {
    "editable": true,
    "slideshow": {
     "slide_type": ""
    },
    "tags": []
   },
   "source": [
    "# Chapter 03: Data visualization\n",
    "\n",
    "Data visualization is another piece of exploratory data analysis. \n",
    "Visuals are, technically, a mapping from a dataset to some graphic.\n",
    "They are meant as summaries and not meant to be an exhaustive tabulation of all data points in a data frame. \n",
    "\n",
    "The foundation for plotting in Python is [matplotlib](https://matplotlib.org/stable/). \n",
    "We'll also explore the [seaborn visualization library](https://seaborn.pydata.org/), and, in the homework, you'll learn about another popular viz tool called [altair](https://altair-viz.github.io/). \n",
    "\n",
    "## Matplotlib \n",
    "\n",
    "Matplotlib was created by neurobiologist [John Hunter](https://en.wikipedia.org/wiki/John_D._Hunter) and since that time has grown to be the most popular plotting framework for Python.\n",
    "\n",
    "### Anatomy of a figure \n",
    "\n",
    "![Anatomy](sphx_glr_anatomy_001.png)\n",
    "\n",
    "\n",
    "### Histogram - 1d\n",
    "\n",
    "### Histogram - 2d\n",
    "\n",
    "### scatterplot\n",
    "\n",
    "### barplot  \n",
    "\n",
    "### box and whisker plot \n",
    "\n",
    "\n",
    "## Seaborn \n",
    "\n",
    "###\n",
    "\n",
    "###\n",
    "\n",
    "###\n",
    "\n",
    "###\n",
    "\n"
   ]
  },
  {
   "cell_type": "code",
   "execution_count": null,
   "id": "16c16bd4-5a56-4fbb-831c-ef1fd8e206f2",
   "metadata": {},
   "outputs": [],
   "source": []
  }
 ],
 "metadata": {
  "kernelspec": {
   "display_name": "Python 3 (ipykernel)",
   "language": "python",
   "name": "python3"
  },
  "language_info": {
   "codemirror_mode": {
    "name": "ipython",
    "version": 3
   },
   "file_extension": ".py",
   "mimetype": "text/x-python",
   "name": "python",
   "nbconvert_exporter": "python",
   "pygments_lexer": "ipython3",
   "version": "3.10.16"
  }
 },
 "nbformat": 4,
 "nbformat_minor": 5
}
