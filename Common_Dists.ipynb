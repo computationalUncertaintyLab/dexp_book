{
 "cells": [
  {
   "cell_type": "markdown",
   "id": "a4ec5a14-bd5a-4bb1-955c-d12ae75f4d19",
   "metadata": {},
   "source": [
    "# Appendix 01: Common Distributions\n",
    "\n",
    "```{contents} Table of Contents\n",
    ":depth: 3\n",
    "```"
   ]
  },
  {
   "cell_type": "markdown",
   "id": "04ef147b-6158-43ce-a342-b8aebe1ad76c",
   "metadata": {},
   "source": [
    "| Distribution       | Common Context                          | PMF / PDF                                                              | Support of X                   | Parameter Range                      | E[X]                           | Var[X]                         |\n",
    "|--------------------|------------------------------------------|------------------------------------------------------------------------|--------------------------------|---------------------------------------|--------------------------------|--------------------------------|\n",
    "| Bernoulli(p)       | Single binary trial (e.g., coin toss)    | $P(X = x) = p^x(1 - p)^{1 - x}$                                        | $x \\in \\{0, 1\\}$               | $0 \\le p \\le 1$                      | $p$                            | $p(1 - p)$                     |\n",
    "| Binomial(n, p)     | Number of successes in n trials          | $P(X = k) = \\binom{n}{k}p^k(1 - p)^{n - k}$                            | $k \\in \\{0, 1, \\dots, n\\}$     | $n \\in \\mathbb{N},\\ 0 \\le p \\le 1$    | $np$                           | $np(1 - p)$                    |\n",
    "| Geometric(p)       | Trials until first success               | $P(X = k) = (1 - p)^{k - 1}p$                                          | $k \\in \\{1, 2, \\dots\\}$        | $0 < p \\le 1$                        | $\\frac{1}{p}$                  | $\\frac{1 - p}{p^2}$            |\n",
    "| Exponential(λ)     | Time until an event              | $f(x) = \\lambda e^{-\\lambda x}$                                       | $x \\in [0, \\infty)$            | $\\lambda > 0$                        | $\\frac{1}{\\lambda}$            | $\\frac{1}{\\lambda^2}$          |\n",
    "| Normal(μ, σ²)      | Measurement errors, natural phenomena    | $f(x) = \\frac{1}{\\sqrt{2\\pi\\sigma^2}} e^{-\\frac{(x - \\mu)^2}{2\\sigma^2}}$ | $x \\in \\mathbb{R}$             | $\\mu \\in \\mathbb{R},\\ \\sigma^2 > 0$  | $\\mu$                          | $\\sigma^2$                     |\n",
    "| Uniform(a, b)      | Equal probability over interval          | $f(x) = \\frac{1}{b - a}$                                               | $x \\in [a, b]$                 | $a < b,\\ a, b \\in \\mathbb{R}$        | $\\frac{a + b}{2}$              | $\\frac{(b - a)^2}{12}$         |\n"
   ]
  },
  {
   "cell_type": "code",
   "execution_count": null,
   "id": "355bbecb-9db5-4174-b75c-16f196cf9842",
   "metadata": {},
   "outputs": [],
   "source": []
  }
 ],
 "metadata": {
  "kernelspec": {
   "display_name": "Python 3 (ipykernel)",
   "language": "python",
   "name": "python3"
  },
  "language_info": {
   "codemirror_mode": {
    "name": "ipython",
    "version": 3
   },
   "file_extension": ".py",
   "mimetype": "text/x-python",
   "name": "python",
   "nbconvert_exporter": "python",
   "pygments_lexer": "ipython3",
   "version": "3.13.2"
  }
 },
 "nbformat": 4,
 "nbformat_minor": 5
}
